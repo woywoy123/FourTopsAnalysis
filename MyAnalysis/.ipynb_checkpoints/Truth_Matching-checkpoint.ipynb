{
 "cells": [
  {
   "cell_type": "code",
   "execution_count": 1,
   "id": "61bc7ad0",
   "metadata": {
    "scrolled": false
   },
   "outputs": [
    {
     "ename": "SyntaxError",
     "evalue": "invalid syntax (Event.py, line 73)",
     "output_type": "error",
     "traceback": [
      "Traceback \u001b[0;36m(most recent call last)\u001b[0m:\n",
      "  File \u001b[1;32m\"/usr/physics/hep/anaconda3/envs/pytorch/lib/python3.9/site-packages/IPython/core/interactiveshell.py\"\u001b[0m, line \u001b[1;32m3441\u001b[0m, in \u001b[1;35mrun_code\u001b[0m\n    exec(code_obj, self.user_global_ns, self.user_ns)\n",
      "\u001b[0;36m  File \u001b[0;32m\"/tmp/ipykernel_20849/3462943242.py\"\u001b[0;36m, line \u001b[0;32m5\u001b[0;36m, in \u001b[0;35m<module>\u001b[0;36m\u001b[0m\n\u001b[0;31m    from Event.Event import Event\u001b[0m\n",
      "\u001b[0;36m  File \u001b[0;32m\"/import/wu1/atlas/alit6074/New_Tops/FourTopsAnalysis/MyAnalysis/Event/Event.py\"\u001b[0;36m, line \u001b[0;32m73\u001b[0m\n\u001b[0;31m    Daughter = [D1:D2+1]\u001b[0m\n\u001b[0m                  ^\u001b[0m\n\u001b[0;31mSyntaxError\u001b[0m\u001b[0;31m:\u001b[0m invalid syntax\n"
     ]
    }
   ],
   "source": [
    "import sys\n",
    "sys.path.append('../')\n",
    "import os \n",
    "os.chdir('../')\n",
    "from Event.Event import Event\n",
    "from Functions.Event.EventGenerator import EventGenerator\n",
    "#from Functions.Particles.ParticleTemplate import CalculateMass\n",
    "#from Functions.Particles.ParticleTemplate import CalculateMassFromChildren\n",
    "import numpy as np\n",
    "import matplotlib.pyplot as plt\n",
    "import mplhep"
   ]
  },
  {
   "cell_type": "code",
   "execution_count": 15,
   "id": "9dec447b",
   "metadata": {},
   "outputs": [],
   "source": [
    "FileDir = \"/import/wu1/atlas/alit6074/Madgraph/Semi-lepton/Events/run_11/tag_1_delphes_events.root\"\n"
   ]
  },
  {
   "cell_type": "code",
   "execution_count": 16,
   "id": "65c1490d",
   "metadata": {
    "scrolled": true
   },
   "outputs": [
    {
     "name": "stdout",
     "output_type": "stream",
     "text": [
      "\u001b[1;92mEVENTGENERATOR::INFO::\u001b[0m\u001b[0;92m_______NEW DIRECTORY______: /import/wu1/atlas/alit6074/Madgraph/Semi-lepton/Events/run_11\u001b[0m\n",
      "\u001b[1;92mEVENTGENERATOR::INFO::\u001b[0m\u001b[0;92mSPAWNING EVENTS IN FILE -> tag_1_delphes_events.root\u001b[0m\n",
      "\u001b[1;92mEVENTCOMPILER::INFO::\u001b[0m\u001b[0;92mCOMPILING EVENTS FROM FILE -> /import/wu1/atlas/alit6074/Madgraph/Semi-lepton/Events/run_11/tag_1_delphes_events.root\u001b[0m\n",
      "{0: [<Particles.Particles.Particle object at 0x7fcbd39b8880>], 1: [<Particles.Particles.Particle object at 0x7fcbd39b83d0>], 2: [<Particles.Particles.Particle object at 0x7fcc361c5eb0>], 3: [<Particles.Particles.Particle object at 0x7fcc361c5fd0>], 4: [<Particles.Particles.Particle object at 0x7fcc361c5100>], 5: [<Particles.Particles.Particle object at 0x7fcc361c5a00>], 6: [<Particles.Particles.Particle object at 0x7fcc0648a070>], 7: [<Particles.Particles.Particle object at 0x7fcc0648a0d0>], 8: [<Particles.Particles.Particle object at 0x7fcc0648a130>], 9: [<Particles.Particles.Particle object at 0x7fcc0648a190>], 10: [<Particles.Particles.Particle object at 0x7fcc0648a1f0>], 11: [<Particles.Particles.Particle object at 0x7fcc0648a250>], 12: [<Particles.Particles.Particle object at 0x7fcc0648a2b0>], 13: [<Particles.Particles.Particle object at 0x7fcc0648a310>], 14: [<Particles.Particles.Particle object at 0x7fcc0648a370>], 15: [<Particles.Particles.Particle object at 0x7fcc0648a3d0>], 16: [<Particles.Particles.Particle object at 0x7fcc0648a430>], 17: [<Particles.Particles.Particle object at 0x7fcc0648a490>], 18: [<Particles.Particles.Particle object at 0x7fcc0648a4f0>], 19: [<Particles.Particles.Particle object at 0x7fcc0648a550>], 20: [<Particles.Particles.Particle object at 0x7fcc0648a5b0>], 21: [<Particles.Particles.Particle object at 0x7fcc0648a610>], 22: [<Particles.Particles.Particle object at 0x7fcc0648a670>], 23: [<Particles.Particles.Particle object at 0x7fcc0648a6d0>], 24: [<Particles.Particles.Particle object at 0x7fcc0648a730>], 25: [<Particles.Particles.Particle object at 0x7fcc0648a790>], 26: [<Particles.Particles.Particle object at 0x7fcc0648a7f0>], 27: [<Particles.Particles.Particle object at 0x7fcc0648a850>], 28: [<Particles.Particles.Particle object at 0x7fcc0648a8b0>], 29: [<Particles.Particles.Particle object at 0x7fcc0648a910>], 30: [<Particles.Particles.Particle object at 0x7fcc0648a970>], 31: [<Particles.Particles.Particle object at 0x7fcc0648a9d0>], 32: [<Particles.Particles.Particle object at 0x7fcc0648aa30>], 33: [<Particles.Particles.Particle object at 0x7fcc0648aa90>], 34: [<Particles.Particles.Particle object at 0x7fcc0648aaf0>], 35: [<Particles.Particles.Particle object at 0x7fcc0648ab50>], 36: [<Particles.Particles.Particle object at 0x7fcc0648abb0>], 37: [<Particles.Particles.Particle object at 0x7fcc0648ac10>], 38: [<Particles.Particles.Particle object at 0x7fcc0648ac70>], 39: [<Particles.Particles.Particle object at 0x7fcc0648acd0>], 40: [<Particles.Particles.Particle object at 0x7fcc0648ad30>], 41: [<Particles.Particles.Particle object at 0x7fcc0648ad90>], 42: [<Particles.Particles.Particle object at 0x7fcc0648adf0>], 43: [<Particles.Particles.Particle object at 0x7fcc0648ae50>], 44: [<Particles.Particles.Particle object at 0x7fcc0648aeb0>], 45: [<Particles.Particles.Particle object at 0x7fcc0648af10>], 46: [<Particles.Particles.Particle object at 0x7fcc0648af70>], 47: [<Particles.Particles.Particle object at 0x7fcc0648afd0>], 48: [<Particles.Particles.Particle object at 0x7fcc064a8070>], 49: [<Particles.Particles.Particle object at 0x7fcc064a80d0>], 50: [<Particles.Particles.Particle object at 0x7fcc064a8130>], 51: [<Particles.Particles.Particle object at 0x7fcc064a8190>], 52: [<Particles.Particles.Particle object at 0x7fcc064a81f0>], 53: [<Particles.Particles.Particle object at 0x7fcc064a8250>], 54: [<Particles.Particles.Particle object at 0x7fcc064a82b0>], 55: [<Particles.Particles.Particle object at 0x7fcc064a8310>], 56: [<Particles.Particles.Particle object at 0x7fcc064a8370>], 57: [<Particles.Particles.Particle object at 0x7fcc064a83d0>], 58: [<Particles.Particles.Particle object at 0x7fcc064a8430>], 59: [<Particles.Particles.Particle object at 0x7fcc064a8490>], 60: [<Particles.Particles.Particle object at 0x7fcc064a84f0>], 61: [<Particles.Particles.Particle object at 0x7fcc064a8550>], 62: [<Particles.Particles.Particle object at 0x7fcc064a85b0>], 63: [<Particles.Particles.Particle object at 0x7fcc064a8610>], 64: [<Particles.Particles.Particle object at 0x7fcc064a8670>], 65: [<Particles.Particles.Particle object at 0x7fcc064a86d0>], 66: [<Particles.Particles.Particle object at 0x7fcc064a8730>], 67: [<Particles.Particles.Particle object at 0x7fcc064a8790>], 68: [<Particles.Particles.Particle object at 0x7fcc064a87f0>], 69: [<Particles.Particles.Particle object at 0x7fcc064a8850>], 70: [<Particles.Particles.Particle object at 0x7fcc064a88b0>], 71: [<Particles.Particles.Particle object at 0x7fcc064a8910>], 72: [<Particles.Particles.Particle object at 0x7fcc064a8970>], 73: [<Particles.Particles.Particle object at 0x7fcc064a89d0>], 74: [<Particles.Particles.Particle object at 0x7fcc064a8a30>], 75: [<Particles.Particles.Particle object at 0x7fcc064a8a90>], 76: [<Particles.Particles.Particle object at 0x7fcc064a8af0>], 77: [<Particles.Particles.Particle object at 0x7fcc064a8b50>], 78: [<Particles.Particles.Particle object at 0x7fcc064a8bb0>], 79: [<Particles.Particles.Particle object at 0x7fcc064a8c10>], 80: [<Particles.Particles.Particle object at 0x7fcc064a8c70>], 81: [<Particles.Particles.Particle object at 0x7fcc064a8cd0>], 82: [<Particles.Particles.Particle object at 0x7fcc064a8d30>], 83: [<Particles.Particles.Particle object at 0x7fcc064a8d90>], 84: [<Particles.Particles.Particle object at 0x7fcc064a8df0>], 85: [<Particles.Particles.Particle object at 0x7fcc064a8e50>], 86: [<Particles.Particles.Particle object at 0x7fcc064a8eb0>], 87: [<Particles.Particles.Particle object at 0x7fcc064a8f10>], 88: [<Particles.Particles.Particle object at 0x7fcc064a8f70>], 89: [<Particles.Particles.Particle object at 0x7fcc064a8fd0>], 90: [<Particles.Particles.Particle object at 0x7fcc064b5070>], 91: [<Particles.Particles.Particle object at 0x7fcc064b50d0>], 92: [<Particles.Particles.Particle object at 0x7fcc064b5130>], 93: [<Particles.Particles.Particle object at 0x7fcc064b5190>], 94: [<Particles.Particles.Particle object at 0x7fcc064b51f0>], 95: [<Particles.Particles.Particle object at 0x7fcc064b5250>], 96: [<Particles.Particles.Particle object at 0x7fcc064b52b0>], 97: [<Particles.Particles.Particle object at 0x7fcc064b5310>], 98: [<Particles.Particles.Particle object at 0x7fcc064b5370>], 99: [<Particles.Particles.Particle object at 0x7fcc064b53d0>], 100: [<Particles.Particles.Particle object at 0x7fcc064b5430>], 101: [<Particles.Particles.Particle object at 0x7fcc064b5490>], 102: [<Particles.Particles.Particle object at 0x7fcc064b54f0>], 103: [<Particles.Particles.Particle object at 0x7fcc064b5550>], 104: [<Particles.Particles.Particle object at 0x7fcc064b55b0>], 105: [<Particles.Particles.Particle object at 0x7fcc064b5610>], 106: [<Particles.Particles.Particle object at 0x7fcc064b5670>], 107: [<Particles.Particles.Particle object at 0x7fcc064b56d0>], 108: [<Particles.Particles.Particle object at 0x7fcc064b5730>], 109: [<Particles.Particles.Particle object at 0x7fcc064b5790>], 110: [<Particles.Particles.Particle object at 0x7fcc064b57f0>], 111: [<Particles.Particles.Particle object at 0x7fcc064b5850>], 112: [<Particles.Particles.Particle object at 0x7fcc064b58b0>], 113: [<Particles.Particles.Particle object at 0x7fcc064b5910>], 114: [<Particles.Particles.Particle object at 0x7fcc064b5970>], 115: [<Particles.Particles.Particle object at 0x7fcc064b59d0>], 116: [<Particles.Particles.Particle object at 0x7fcc064b5a30>], 117: [<Particles.Particles.Particle object at 0x7fcc064b5a90>], 118: [<Particles.Particles.Particle object at 0x7fcc064b5af0>], 119: [<Particles.Particles.Particle object at 0x7fcc064b5b50>], 120: [<Particles.Particles.Particle object at 0x7fcc064b5bb0>], 121: [<Particles.Particles.Particle object at 0x7fcc064b5c10>], 122: [<Particles.Particles.Particle object at 0x7fcc064b5c70>], 123: [<Particles.Particles.Particle object at 0x7fcc064b5cd0>], 124: [<Particles.Particles.Particle object at 0x7fcc064b5d30>], 125: [<Particles.Particles.Particle object at 0x7fcc064b5d90>], 126: [<Particles.Particles.Particle object at 0x7fcc064b5df0>], 127: [<Particles.Particles.Particle object at 0x7fcc064b5e50>], 128: [<Particles.Particles.Particle object at 0x7fcc064b5eb0>], 129: [<Particles.Particles.Particle object at 0x7fcc064b5f10>], 130: [<Particles.Particles.Particle object at 0x7fcc064b5f70>], 131: [<Particles.Particles.Particle object at 0x7fcc064b5fd0>], 132: [<Particles.Particles.Particle object at 0x7fcc064c1070>], 133: [<Particles.Particles.Particle object at 0x7fcc064c10d0>], 134: [<Particles.Particles.Particle object at 0x7fcc064c1130>], 135: [<Particles.Particles.Particle object at 0x7fcc064c1190>], 136: [<Particles.Particles.Particle object at 0x7fcc064c11f0>], 137: [<Particles.Particles.Particle object at 0x7fcc064c1250>], 138: [<Particles.Particles.Particle object at 0x7fcc064c12b0>], 139: [<Particles.Particles.Particle object at 0x7fcc064c1310>], 140: [<Particles.Particles.Particle object at 0x7fcc064c1370>], 141: [<Particles.Particles.Particle object at 0x7fcc064c13d0>], 142: [<Particles.Particles.Particle object at 0x7fcc064c1430>], 143: [<Particles.Particles.Particle object at 0x7fcc064c1490>], 144: [<Particles.Particles.Particle object at 0x7fcc064c14f0>], 145: [<Particles.Particles.Particle object at 0x7fcc064c1550>], 146: [<Particles.Particles.Particle object at 0x7fcc064c15b0>], 147: [<Particles.Particles.Particle object at 0x7fcc064c1610>], 148: [<Particles.Particles.Particle object at 0x7fcc064c1670>], 149: [<Particles.Particles.Particle object at 0x7fcc064c16d0>], 150: [<Particles.Particles.Particle object at 0x7fcc060878b0>], 151: [<Particles.Particles.Particle object at 0x7fcc06100d90>], 152: [<Particles.Particles.Particle object at 0x7fcc064c1730>], 153: [<Particles.Particles.Particle object at 0x7fcc064c1790>], 154: [<Particles.Particles.Particle object at 0x7fcc064c17f0>], 155: [<Particles.Particles.Particle object at 0x7fcc064c1850>], 156: [<Particles.Particles.Particle object at 0x7fcc064c18b0>], 157: [<Particles.Particles.Particle object at 0x7fcc064c1910>], 158: [<Particles.Particles.Particle object at 0x7fcc064c1970>], 159: [<Particles.Particles.Particle object at 0x7fcc064c19d0>], 160: [<Particles.Particles.Particle object at 0x7fcc064c1a30>], 161: [<Particles.Particles.Particle object at 0x7fcc064c1a90>], 162: [<Particles.Particles.Particle object at 0x7fcc064c1af0>], 163: [<Particles.Particles.Particle object at 0x7fcc064c1b50>], 164: [<Particles.Particles.Particle object at 0x7fcc064c1bb0>], 165: [<Particles.Particles.Particle object at 0x7fcc064c1c10>], 166: [<Particles.Particles.Particle object at 0x7fcc064c1c70>], 167: [<Particles.Particles.Particle object at 0x7fcc064c1cd0>], 168: [<Particles.Particles.Particle object at 0x7fcc064c1d30>], 169: [<Particles.Particles.Particle object at 0x7fcc064c1d90>], 170: [<Particles.Particles.Particle object at 0x7fcc064c1df0>], 171: [<Particles.Particles.Particle object at 0x7fcc064c1e50>], 172: [<Particles.Particles.Particle object at 0x7fcc064c1eb0>], 173: [<Particles.Particles.Particle object at 0x7fcc064c1f10>], 174: [<Particles.Particles.Particle object at 0x7fcc064c1f70>], 175: [<Particles.Particles.Particle object at 0x7fcc064c1fd0>], 176: [<Particles.Particles.Particle object at 0x7fcc064c0070>], 177: [<Particles.Particles.Particle object at 0x7fcc064c00d0>], 178: [<Particles.Particles.Particle object at 0x7fcc064c0130>], 179: [<Particles.Particles.Particle object at 0x7fcc064c0190>], 180: [<Particles.Particles.Particle object at 0x7fcc064c01f0>], 181: [<Particles.Particles.Particle object at 0x7fcc064c0250>], 182: [<Particles.Particles.Particle object at 0x7fcc064c02b0>], 183: [<Particles.Particles.Particle object at 0x7fcc064c0310>], 184: [<Particles.Particles.Particle object at 0x7fcc064c0370>], 185: [<Particles.Particles.Particle object at 0x7fcc064c03d0>], 186: [<Particles.Particles.Particle object at 0x7fcc064c0430>], 187: [<Particles.Particles.Particle object at 0x7fcc064c0490>], 188: [<Particles.Particles.Particle object at 0x7fcc064c04f0>], 189: [<Particles.Particles.Particle object at 0x7fcc064c0550>], 190: [<Particles.Particles.Particle object at 0x7fcc064c05b0>], 191: [<Particles.Particles.Particle object at 0x7fcc064c0610>], 192: [<Particles.Particles.Particle object at 0x7fcc064c0670>], 193: [<Particles.Particles.Particle object at 0x7fcc064c06d0>], 194: [<Particles.Particles.Particle object at 0x7fcc064c0730>], 195: [<Particles.Particles.Particle object at 0x7fcc064c0790>], 196: [<Particles.Particles.Particle object at 0x7fcc064c07f0>], 197: [<Particles.Particles.Particle object at 0x7fcc064c0850>], 198: [<Particles.Particles.Particle object at 0x7fcc064c08b0>], 199: [<Particles.Particles.Particle object at 0x7fcc064c0910>], 200: [<Particles.Particles.Particle object at 0x7fcc064c0970>], 201: [<Particles.Particles.Particle object at 0x7fcc064c09d0>], 202: [<Particles.Particles.Particle object at 0x7fcc064c0a30>], 203: [<Particles.Particles.Particle object at 0x7fcc064c0a90>], 204: [<Particles.Particles.Particle object at 0x7fcc064c0af0>], 205: [<Particles.Particles.Particle object at 0x7fcc064c0b50>], 206: [<Particles.Particles.Particle object at 0x7fcc064c0bb0>], 207: [<Particles.Particles.Particle object at 0x7fcc064c0c10>], 208: [<Particles.Particles.Particle object at 0x7fcc064c0c70>], 209: [<Particles.Particles.Particle object at 0x7fcc064c0cd0>], 210: [<Particles.Particles.Particle object at 0x7fcc064c0d30>], 211: [<Particles.Particles.Particle object at 0x7fcc064c0d90>], 212: [<Particles.Particles.Particle object at 0x7fcc064c0df0>], 213: [<Particles.Particles.Particle object at 0x7fcc064c0e50>], 214: [<Particles.Particles.Particle object at 0x7fcc064c0eb0>], 215: [<Particles.Particles.Particle object at 0x7fcc064c0f10>], 216: [<Particles.Particles.Particle object at 0x7fcc064c0f70>], 217: [<Particles.Particles.Particle object at 0x7fcc064c0fd0>], 218: [<Particles.Particles.Particle object at 0x7fcc064ba070>], 219: [<Particles.Particles.Particle object at 0x7fcc064ba0d0>], 220: [<Particles.Particles.Particle object at 0x7fcc064ba130>], 221: [<Particles.Particles.Particle object at 0x7fcc064ba190>], 222: [<Particles.Particles.Particle object at 0x7fcc064ba1f0>], 223: [<Particles.Particles.Particle object at 0x7fcc064ba250>], 224: [<Particles.Particles.Particle object at 0x7fcc064ba2b0>], 225: [<Particles.Particles.Particle object at 0x7fcc064ba310>], 226: [<Particles.Particles.Particle object at 0x7fcc064ba370>], 227: [<Particles.Particles.Particle object at 0x7fcc064ba3d0>], 228: [<Particles.Particles.Particle object at 0x7fcc064ba430>], 229: [<Particles.Particles.Particle object at 0x7fcc064ba490>], 230: [<Particles.Particles.Particle object at 0x7fcc064ba4f0>], 231: [<Particles.Particles.Particle object at 0x7fcc064ba550>], 232: [<Particles.Particles.Particle object at 0x7fcc064ba5b0>], 233: [<Particles.Particles.Particle object at 0x7fcc064ba610>], 234: [<Particles.Particles.Particle object at 0x7fcc064ba670>], 235: [<Particles.Particles.Particle object at 0x7fcc064ba6d0>], 236: [<Particles.Particles.Particle object at 0x7fcc064ba730>], 237: [<Particles.Particles.Particle object at 0x7fcc064ba790>], 238: [<Particles.Particles.Particle object at 0x7fcc064ba7f0>], 239: [<Particles.Particles.Particle object at 0x7fcc064ba850>], 240: [<Particles.Particles.Particle object at 0x7fcc064ba8b0>], 241: [<Particles.Particles.Particle object at 0x7fcc064ba910>], 242: [<Particles.Particles.Particle object at 0x7fcc064ba970>], 243: [<Particles.Particles.Particle object at 0x7fcc064ba9d0>], 244: [<Particles.Particles.Particle object at 0x7fcc064baa30>], 245: [<Particles.Particles.Particle object at 0x7fcc064baa90>], 246: [<Particles.Particles.Particle object at 0x7fcc064baaf0>], 247: [<Particles.Particles.Particle object at 0x7fcc064bab50>], 248: [<Particles.Particles.Particle object at 0x7fcc064babb0>], 249: [<Particles.Particles.Particle object at 0x7fcc064bac10>], 250: [<Particles.Particles.Particle object at 0x7fcc064bac70>], 251: [<Particles.Particles.Particle object at 0x7fcc064bacd0>], 252: [<Particles.Particles.Particle object at 0x7fcc064bad30>], 253: [<Particles.Particles.Particle object at 0x7fcc064bad90>], 254: [<Particles.Particles.Particle object at 0x7fcc064badf0>], 255: [<Particles.Particles.Particle object at 0x7fcc064bae50>], 256: [<Particles.Particles.Particle object at 0x7fcc064baeb0>], 257: [<Particles.Particles.Particle object at 0x7fcc064baf10>], 258: [<Particles.Particles.Particle object at 0x7fcc064baf70>], 259: [<Particles.Particles.Particle object at 0x7fcc064bafd0>], 260: [<Particles.Particles.Particle object at 0x7fcc064ad070>], 261: [<Particles.Particles.Particle object at 0x7fcc064ad0d0>], 262: [<Particles.Particles.Particle object at 0x7fcc064ad130>], 263: [<Particles.Particles.Particle object at 0x7fcc064ad190>], 264: [<Particles.Particles.Particle object at 0x7fcc064ad1f0>], 265: [<Particles.Particles.Particle object at 0x7fcc064ad250>], 266: [<Particles.Particles.Particle object at 0x7fcc064ad2b0>], 267: [<Particles.Particles.Particle object at 0x7fcc064ad310>], 268: [<Particles.Particles.Particle object at 0x7fcc064ad370>], 269: [<Particles.Particles.Particle object at 0x7fcc064ad3d0>], 270: [<Particles.Particles.Particle object at 0x7fcc064ad430>], 271: [<Particles.Particles.Particle object at 0x7fcc064ad490>], 272: [<Particles.Particles.Particle object at 0x7fcc064ad4f0>], 273: [<Particles.Particles.Particle object at 0x7fcc064ad550>], 274: [<Particles.Particles.Particle object at 0x7fcc064ad5b0>], 275: [<Particles.Particles.Particle object at 0x7fcc064ad610>], 276: [<Particles.Particles.Particle object at 0x7fcc064ad670>], 277: [<Particles.Particles.Particle object at 0x7fcc064ad6d0>], 278: [<Particles.Particles.Particle object at 0x7fcc064ad730>], 279: [<Particles.Particles.Particle object at 0x7fcc064ad790>], 280: [<Particles.Particles.Particle object at 0x7fcc064ad7f0>], 281: [<Particles.Particles.Particle object at 0x7fcc064ad850>], 282: [<Particles.Particles.Particle object at 0x7fcc064ad8b0>], 283: [<Particles.Particles.Particle object at 0x7fcc064ad910>], 284: [<Particles.Particles.Particle object at 0x7fcc064ad970>], 285: [<Particles.Particles.Particle object at 0x7fcc064ad9d0>], 286: [<Particles.Particles.Particle object at 0x7fcc064ada30>], 287: [<Particles.Particles.Particle object at 0x7fcc064ada90>], 288: [<Particles.Particles.Particle object at 0x7fcc064adaf0>], 289: [<Particles.Particles.Particle object at 0x7fcc064adb50>], 290: [<Particles.Particles.Particle object at 0x7fcc064adbb0>], 291: [<Particles.Particles.Particle object at 0x7fcc064adc10>], 292: [<Particles.Particles.Particle object at 0x7fcc064adc70>], 293: [<Particles.Particles.Particle object at 0x7fcc064adcd0>], 294: [<Particles.Particles.Particle object at 0x7fcc064add30>], 295: [<Particles.Particles.Particle object at 0x7fcc064add90>], 296: [<Particles.Particles.Particle object at 0x7fcc064addf0>], 297: [<Particles.Particles.Particle object at 0x7fcc064ade50>], 298: [<Particles.Particles.Particle object at 0x7fcc064adeb0>], 299: [<Particles.Particles.Particle object at 0x7fcc064adf10>], 300: [<Particles.Particles.Particle object at 0x7fcc064adf70>], 301: [<Particles.Particles.Particle object at 0x7fcc064adfd0>], 302: [<Particles.Particles.Particle object at 0x7fcc064a4070>], 303: [<Particles.Particles.Particle object at 0x7fcc064a40d0>], 304: [<Particles.Particles.Particle object at 0x7fcc064a4130>], 305: [<Particles.Particles.Particle object at 0x7fcc064a4190>], 306: [<Particles.Particles.Particle object at 0x7fcc064a41f0>], 307: [<Particles.Particles.Particle object at 0x7fcc064a4250>], 308: [<Particles.Particles.Particle object at 0x7fcc064a42b0>], 309: [<Particles.Particles.Particle object at 0x7fcc064a4310>], 310: [<Particles.Particles.Particle object at 0x7fcc064a4370>], 311: [<Particles.Particles.Particle object at 0x7fcc064a43d0>], 312: [<Particles.Particles.Particle object at 0x7fcc064a4430>], 313: [<Particles.Particles.Particle object at 0x7fcc064a4490>], 314: [<Particles.Particles.Particle object at 0x7fcc064a44f0>], 315: [<Particles.Particles.Particle object at 0x7fcc064a4550>], 316: [<Particles.Particles.Particle object at 0x7fcc064a45b0>], 317: [<Particles.Particles.Particle object at 0x7fcc064a4610>], 318: [<Particles.Particles.Particle object at 0x7fcc064a4670>], 319: [<Particles.Particles.Particle object at 0x7fcc064a46d0>], 320: [<Particles.Particles.Particle object at 0x7fcc064a4730>], 321: [<Particles.Particles.Particle object at 0x7fcc064a4790>], 322: [<Particles.Particles.Particle object at 0x7fcc064a47f0>], 323: [<Particles.Particles.Particle object at 0x7fcc064a4850>], 324: [<Particles.Particles.Particle object at 0x7fcc064a48b0>], 325: [<Particles.Particles.Particle object at 0x7fcc064a4910>], 326: [<Particles.Particles.Particle object at 0x7fcc064a4970>], 327: [<Particles.Particles.Particle object at 0x7fcc064a49d0>], 328: [<Particles.Particles.Particle object at 0x7fcc064a4a30>], 329: [<Particles.Particles.Particle object at 0x7fcc064a4a90>], 330: [<Particles.Particles.Particle object at 0x7fcc064a4af0>], 331: [<Particles.Particles.Particle object at 0x7fcc064a4b50>], 332: [<Particles.Particles.Particle object at 0x7fcc064a4bb0>], 333: [<Particles.Particles.Particle object at 0x7fcc064a4c10>], 334: [<Particles.Particles.Particle object at 0x7fcc064a4c70>], 335: [<Particles.Particles.Particle object at 0x7fcc064a4cd0>], 336: [<Particles.Particles.Particle object at 0x7fcc064a4d30>], 337: [<Particles.Particles.Particle object at 0x7fcc064a4d90>], 338: [<Particles.Particles.Particle object at 0x7fcc064a4df0>], 339: [<Particles.Particles.Particle object at 0x7fcc064a4e50>], 340: [<Particles.Particles.Particle object at 0x7fcc064a4eb0>], 341: [<Particles.Particles.Particle object at 0x7fcc064a4f10>], 342: [<Particles.Particles.Particle object at 0x7fcc064a4f70>], 343: [<Particles.Particles.Particle object at 0x7fcc064a4fd0>], 344: [<Particles.Particles.Particle object at 0x7fcc06495070>], 345: [<Particles.Particles.Particle object at 0x7fcc064950d0>], 346: [<Particles.Particles.Particle object at 0x7fcc06495130>], 347: [<Particles.Particles.Particle object at 0x7fcc06495190>], 348: [<Particles.Particles.Particle object at 0x7fcc064951f0>], 349: [<Particles.Particles.Particle object at 0x7fcc06495250>], 350: [<Particles.Particles.Particle object at 0x7fcc064952b0>], 351: [<Particles.Particles.Particle object at 0x7fcc06495310>], 352: [<Particles.Particles.Particle object at 0x7fcc06495370>], 353: [<Particles.Particles.Particle object at 0x7fcc064953d0>], 354: [<Particles.Particles.Particle object at 0x7fcc06495430>], 355: [<Particles.Particles.Particle object at 0x7fcc06495490>], 356: [<Particles.Particles.Particle object at 0x7fcc064954f0>], 357: [<Particles.Particles.Particle object at 0x7fcc06495550>], 358: [<Particles.Particles.Particle object at 0x7fcc064955b0>], 359: [<Particles.Particles.Particle object at 0x7fcc06495610>], 360: [<Particles.Particles.Particle object at 0x7fcc06495670>], 361: [<Particles.Particles.Particle object at 0x7fcc064956d0>], 362: [<Particles.Particles.Particle object at 0x7fcc06495730>], 363: [<Particles.Particles.Particle object at 0x7fcc06495790>], 364: [<Particles.Particles.Particle object at 0x7fcc064957f0>], 365: [<Particles.Particles.Particle object at 0x7fcc06495850>], 366: [<Particles.Particles.Particle object at 0x7fcc064958b0>], 367: [<Particles.Particles.Particle object at 0x7fcc06495910>], 368: [<Particles.Particles.Particle object at 0x7fcc06495970>], 369: [<Particles.Particles.Particle object at 0x7fcc064959d0>], 370: [<Particles.Particles.Particle object at 0x7fcc06495a30>], 371: [<Particles.Particles.Particle object at 0x7fcc06495a90>], 372: [<Particles.Particles.Particle object at 0x7fcc06495af0>], 373: [<Particles.Particles.Particle object at 0x7fcc06495b50>], 374: [<Particles.Particles.Particle object at 0x7fcc06495bb0>], 375: [<Particles.Particles.Particle object at 0x7fcc06495c10>], 376: [<Particles.Particles.Particle object at 0x7fcc06495c70>], 377: [<Particles.Particles.Particle object at 0x7fcc06495cd0>], 378: [<Particles.Particles.Particle object at 0x7fcc06495d30>], 379: [<Particles.Particles.Particle object at 0x7fcc06495d90>], 380: [<Particles.Particles.Particle object at 0x7fcc06495df0>], 381: [<Particles.Particles.Particle object at 0x7fcc06495e50>], 382: [<Particles.Particles.Particle object at 0x7fcc06495eb0>], 383: [<Particles.Particles.Particle object at 0x7fcc06495f10>], 384: [<Particles.Particles.Particle object at 0x7fcc06495f70>], 385: [<Particles.Particles.Particle object at 0x7fcc06495fd0>], 386: [<Particles.Particles.Particle object at 0x7fcc0648c070>], 387: [<Particles.Particles.Particle object at 0x7fcc0648c0d0>], 388: [<Particles.Particles.Particle object at 0x7fcc0648c130>], 389: [<Particles.Particles.Particle object at 0x7fcc0648c190>], 390: [<Particles.Particles.Particle object at 0x7fcc0648c1f0>], 391: [<Particles.Particles.Particle object at 0x7fcc0648c250>], 392: [<Particles.Particles.Particle object at 0x7fcc0648c2b0>], 393: [<Particles.Particles.Particle object at 0x7fcc0648c310>], 394: [<Particles.Particles.Particle object at 0x7fcc0648c370>], 395: [<Particles.Particles.Particle object at 0x7fcc0648c3d0>], 396: [<Particles.Particles.Particle object at 0x7fcc0648c430>], 397: [<Particles.Particles.Particle object at 0x7fcc0648c490>], 398: [<Particles.Particles.Particle object at 0x7fcc0648c4f0>], 399: [<Particles.Particles.Particle object at 0x7fcc0648c550>], 400: [<Particles.Particles.Particle object at 0x7fcc0648c5b0>], 401: [<Particles.Particles.Particle object at 0x7fcc0648c610>], 402: [<Particles.Particles.Particle object at 0x7fcc0648c670>], 403: [<Particles.Particles.Particle object at 0x7fcc0648c6d0>], 404: [<Particles.Particles.Particle object at 0x7fcc0648c730>], 405: [<Particles.Particles.Particle object at 0x7fcc0648c790>], 406: [<Particles.Particles.Particle object at 0x7fcc0648c7f0>], 407: [<Particles.Particles.Particle object at 0x7fcc0648c850>], 408: [<Particles.Particles.Particle object at 0x7fcc0648c8b0>], 409: [<Particles.Particles.Particle object at 0x7fcc0648c910>], 410: [<Particles.Particles.Particle object at 0x7fcc0648c970>], 411: [<Particles.Particles.Particle object at 0x7fcc0648c9d0>], 412: [<Particles.Particles.Particle object at 0x7fcc0648ca30>], 413: [<Particles.Particles.Particle object at 0x7fcc0648ca90>], 414: [<Particles.Particles.Particle object at 0x7fcc0648caf0>], 415: [<Particles.Particles.Particle object at 0x7fcc0648cb50>], 416: [<Particles.Particles.Particle object at 0x7fcc0648cbb0>], 417: [<Particles.Particles.Particle object at 0x7fcc0648cc10>], 418: [<Particles.Particles.Particle object at 0x7fcc0648cc70>], 419: [<Particles.Particles.Particle object at 0x7fcc0648ccd0>], 420: [<Particles.Particles.Particle object at 0x7fcc0648cd30>], 421: [<Particles.Particles.Particle object at 0x7fcc0648cd90>], 422: [<Particles.Particles.Particle object at 0x7fcc0648cdf0>], 423: [<Particles.Particles.Particle object at 0x7fcc0648ce50>], 424: [<Particles.Particles.Particle object at 0x7fcc0648ceb0>], 425: [<Particles.Particles.Particle object at 0x7fcc0648cf10>], 426: [<Particles.Particles.Particle object at 0x7fcc0648cf70>], 427: [<Particles.Particles.Particle object at 0x7fcc0648cfd0>], 428: [<Particles.Particles.Particle object at 0x7fcb774fb070>], 429: [<Particles.Particles.Particle object at 0x7fcb774fb0d0>], 430: [<Particles.Particles.Particle object at 0x7fcb774fb130>], 431: [<Particles.Particles.Particle object at 0x7fcb774fb190>], 432: [<Particles.Particles.Particle object at 0x7fcb774fb1f0>], 433: [<Particles.Particles.Particle object at 0x7fcb774fb250>], 434: [<Particles.Particles.Particle object at 0x7fcb774fb2b0>], 435: [<Particles.Particles.Particle object at 0x7fcb774fb310>], 436: [<Particles.Particles.Particle object at 0x7fcb774fb370>], 437: [<Particles.Particles.Particle object at 0x7fcb774fb3d0>], 438: [<Particles.Particles.Particle object at 0x7fcb774fb430>], 439: [<Particles.Particles.Particle object at 0x7fcb774fb490>], 440: [<Particles.Particles.Particle object at 0x7fcb774fb4f0>], 441: [<Particles.Particles.Particle object at 0x7fcb774fb550>], 442: [<Particles.Particles.Particle object at 0x7fcb774fb5b0>], 443: [<Particles.Particles.Particle object at 0x7fcb774fb610>], 444: [<Particles.Particles.Particle object at 0x7fcb774fb670>], 445: [<Particles.Particles.Particle object at 0x7fcb774fb6d0>], 446: [<Particles.Particles.Particle object at 0x7fcb774fb730>], 447: [<Particles.Particles.Particle object at 0x7fcb774fb790>], 448: [<Particles.Particles.Particle object at 0x7fcb774fb7f0>], 449: [<Particles.Particles.Particle object at 0x7fcb774fb850>], 450: [<Particles.Particles.Particle object at 0x7fcb774fb8b0>], 451: [<Particles.Particles.Particle object at 0x7fcb774fb910>], 452: [<Particles.Particles.Particle object at 0x7fcb774fb970>], 453: [<Particles.Particles.Particle object at 0x7fcb774fb9d0>], 454: [<Particles.Particles.Particle object at 0x7fcb774fba30>], 455: [<Particles.Particles.Particle object at 0x7fcb774fba90>], 456: [<Particles.Particles.Particle object at 0x7fcb774fbaf0>], 457: [<Particles.Particles.Particle object at 0x7fcb774fbb50>], 458: [<Particles.Particles.Particle object at 0x7fcb774fbbb0>], 459: [<Particles.Particles.Particle object at 0x7fcb774fbc10>], 460: [<Particles.Particles.Particle object at 0x7fcb774fbc70>], 461: [<Particles.Particles.Particle object at 0x7fcb774fbcd0>], 462: [<Particles.Particles.Particle object at 0x7fcb774fbd30>], 463: [<Particles.Particles.Particle object at 0x7fcb774fbd90>], 464: [<Particles.Particles.Particle object at 0x7fcb774fbdf0>], 465: [<Particles.Particles.Particle object at 0x7fcb774fbe50>], 466: [<Particles.Particles.Particle object at 0x7fcb774fbeb0>], 467: [<Particles.Particles.Particle object at 0x7fcb774fbf10>], 468: [<Particles.Particles.Particle object at 0x7fcb774fbf70>], 469: [<Particles.Particles.Particle object at 0x7fcb774fbfd0>], 470: [<Particles.Particles.Particle object at 0x7fcb774c1070>], 471: [<Particles.Particles.Particle object at 0x7fcb774c10d0>], 472: [<Particles.Particles.Particle object at 0x7fcb774c1130>], 473: [<Particles.Particles.Particle object at 0x7fcb774c1190>], 474: [<Particles.Particles.Particle object at 0x7fcb774c11f0>], 475: [<Particles.Particles.Particle object at 0x7fcb774c1250>], 476: [<Particles.Particles.Particle object at 0x7fcb774c12b0>], 477: [<Particles.Particles.Particle object at 0x7fcb774c1310>], 478: [<Particles.Particles.Particle object at 0x7fcb774c1370>], 479: [<Particles.Particles.Particle object at 0x7fcb774c13d0>], 480: [<Particles.Particles.Particle object at 0x7fcb774c1430>], 481: [<Particles.Particles.Particle object at 0x7fcb774c1490>], 482: [<Particles.Particles.Particle object at 0x7fcb774c14f0>], 483: [<Particles.Particles.Particle object at 0x7fcb774c1550>], 484: [<Particles.Particles.Particle object at 0x7fcb774c15b0>], 485: [<Particles.Particles.Particle object at 0x7fcb774c1610>], 486: [<Particles.Particles.Particle object at 0x7fcb774c1670>], 487: [<Particles.Particles.Particle object at 0x7fcb774c16d0>], 488: [<Particles.Particles.Particle object at 0x7fcb774c1730>], 489: [<Particles.Particles.Particle object at 0x7fcb774c1790>], 490: [<Particles.Particles.Particle object at 0x7fcb774c17f0>], 491: [<Particles.Particles.Particle object at 0x7fcb774c1850>], 492: [<Particles.Particles.Particle object at 0x7fcb774c18b0>], 493: [<Particles.Particles.Particle object at 0x7fcb774c1910>], 494: [<Particles.Particles.Particle object at 0x7fcb774c1970>], 495: [<Particles.Particles.Particle object at 0x7fcb774c19d0>], 496: [<Particles.Particles.Particle object at 0x7fcb774c1a30>], 497: [<Particles.Particles.Particle object at 0x7fcb774c1a90>], 498: [<Particles.Particles.Particle object at 0x7fcb774c1af0>], 499: [<Particles.Particles.Particle object at 0x7fcb774c1b50>], 500: [<Particles.Particles.Particle object at 0x7fcb774c1bb0>], 501: [<Particles.Particles.Particle object at 0x7fcb774c1c10>], 502: [<Particles.Particles.Particle object at 0x7fcb774c1c70>], 503: [<Particles.Particles.Particle object at 0x7fcb774c1cd0>], 504: [<Particles.Particles.Particle object at 0x7fcb774c1d30>], 505: [<Particles.Particles.Particle object at 0x7fcb774c1d90>], 506: [<Particles.Particles.Particle object at 0x7fcb774c1df0>], 507: [<Particles.Particles.Particle object at 0x7fcb774c1e50>], 508: [<Particles.Particles.Particle object at 0x7fcb774c1eb0>], 509: [<Particles.Particles.Particle object at 0x7fcb774c1f10>], 510: [<Particles.Particles.Particle object at 0x7fcb774c1f70>], 511: [<Particles.Particles.Particle object at 0x7fcb774c1fd0>], 512: [<Particles.Particles.Particle object at 0x7fcb774c8070>], 513: [<Particles.Particles.Particle object at 0x7fcb774c80d0>], 514: [<Particles.Particles.Particle object at 0x7fcb774c8130>], 515: [<Particles.Particles.Particle object at 0x7fcb774c8190>], 516: [<Particles.Particles.Particle object at 0x7fcb774c81f0>], 517: [<Particles.Particles.Particle object at 0x7fcb774c8250>], 518: [<Particles.Particles.Particle object at 0x7fcb774c82b0>], 519: [<Particles.Particles.Particle object at 0x7fcb774c8310>], 520: [<Particles.Particles.Particle object at 0x7fcb774c8370>], 521: [<Particles.Particles.Particle object at 0x7fcb774c83d0>], 522: [<Particles.Particles.Particle object at 0x7fcb774c8430>], 523: [<Particles.Particles.Particle object at 0x7fcb774c8490>], 524: [<Particles.Particles.Particle object at 0x7fcb774c84f0>], 525: [<Particles.Particles.Particle object at 0x7fcb774c8550>], 526: [<Particles.Particles.Particle object at 0x7fcb774c85b0>], 527: [<Particles.Particles.Particle object at 0x7fcb774c8610>], 528: [<Particles.Particles.Particle object at 0x7fcb774c8670>], 529: [<Particles.Particles.Particle object at 0x7fcb774c86d0>], 530: [<Particles.Particles.Particle object at 0x7fcb774c8730>], 531: [<Particles.Particles.Particle object at 0x7fcb774c8790>], 532: [<Particles.Particles.Particle object at 0x7fcb774c87f0>], 533: [<Particles.Particles.Particle object at 0x7fcb774c8850>], 534: [<Particles.Particles.Particle object at 0x7fcb774c88b0>], 535: [<Particles.Particles.Particle object at 0x7fcb774c8910>], 536: [<Particles.Particles.Particle object at 0x7fcb774c8970>], 537: [<Particles.Particles.Particle object at 0x7fcb774c89d0>], 538: [<Particles.Particles.Particle object at 0x7fcb774c8a30>], 539: [<Particles.Particles.Particle object at 0x7fcb774c8a90>], 540: [<Particles.Particles.Particle object at 0x7fcb774c8af0>], 541: [<Particles.Particles.Particle object at 0x7fcb774c8b50>], 542: [<Particles.Particles.Particle object at 0x7fcb774c8bb0>], 543: [<Particles.Particles.Particle object at 0x7fcb774c8c10>], 544: [<Particles.Particles.Particle object at 0x7fcb774c8c70>], 545: [<Particles.Particles.Particle object at 0x7fcb774c8cd0>], 546: [<Particles.Particles.Particle object at 0x7fcb774c8d30>], 547: [<Particles.Particles.Particle object at 0x7fcb774c8d90>], 548: [<Particles.Particles.Particle object at 0x7fcb774c8df0>], 549: [<Particles.Particles.Particle object at 0x7fcb774c8e50>], 550: [<Particles.Particles.Particle object at 0x7fcb774c8eb0>], 551: [<Particles.Particles.Particle object at 0x7fcb774c8f10>], 552: [<Particles.Particles.Particle object at 0x7fcb774c8f70>], 553: [<Particles.Particles.Particle object at 0x7fcb774c8fd0>], 554: [<Particles.Particles.Particle object at 0x7fcb774ce070>], 555: [<Particles.Particles.Particle object at 0x7fcb774ce0d0>], 556: [<Particles.Particles.Particle object at 0x7fcb774ce130>], 557: [<Particles.Particles.Particle object at 0x7fcb774ce190>], 558: [<Particles.Particles.Particle object at 0x7fcb774ce1f0>], 559: [<Particles.Particles.Particle object at 0x7fcb774ce250>], 560: [<Particles.Particles.Particle object at 0x7fcb774ce2b0>], 561: [<Particles.Particles.Particle object at 0x7fcb774ce310>], 562: [<Particles.Particles.Particle object at 0x7fcb774ce370>], 563: [<Particles.Particles.Particle object at 0x7fcb774ce3d0>], 564: [<Particles.Particles.Particle object at 0x7fcb774ce430>], 565: [<Particles.Particles.Particle object at 0x7fcb774ce490>], 566: [<Particles.Particles.Particle object at 0x7fcb774ce4f0>], 567: [<Particles.Particles.Particle object at 0x7fcb774ce550>], 568: [<Particles.Particles.Particle object at 0x7fcb774ce5b0>], 569: [<Particles.Particles.Particle object at 0x7fcb774ce610>], 570: [<Particles.Particles.Particle object at 0x7fcb774ce670>], 571: [<Particles.Particles.Particle object at 0x7fcb774ce6d0>], 572: [<Particles.Particles.Particle object at 0x7fcb774ce730>], 573: [<Particles.Particles.Particle object at 0x7fcb774ce790>], 574: [<Particles.Particles.Particle object at 0x7fcb774ce7f0>], 575: [<Particles.Particles.Particle object at 0x7fcb774ce850>], 576: [<Particles.Particles.Particle object at 0x7fcb774ce8b0>], 577: [<Particles.Particles.Particle object at 0x7fcb774ce910>], 578: [<Particles.Particles.Particle object at 0x7fcb774ce970>], 579: [<Particles.Particles.Particle object at 0x7fcb774ce9d0>], 580: [<Particles.Particles.Particle object at 0x7fcb774cea30>], 581: [<Particles.Particles.Particle object at 0x7fcb774cea90>], 582: [<Particles.Particles.Particle object at 0x7fcb774ceaf0>], 583: [<Particles.Particles.Particle object at 0x7fcb774ceb50>], 584: [<Particles.Particles.Particle object at 0x7fcb774cebb0>], 585: [<Particles.Particles.Particle object at 0x7fcb774cec10>], 586: [<Particles.Particles.Particle object at 0x7fcb774cec70>], 587: [<Particles.Particles.Particle object at 0x7fcb774cecd0>], 588: [<Particles.Particles.Particle object at 0x7fcb774ced30>], 589: [<Particles.Particles.Particle object at 0x7fcb774ced90>], 590: [<Particles.Particles.Particle object at 0x7fcb774cedf0>], 591: [<Particles.Particles.Particle object at 0x7fcb774cee50>], 592: [<Particles.Particles.Particle object at 0x7fcb774ceeb0>], 593: [<Particles.Particles.Particle object at 0x7fcb774cef10>], 594: [<Particles.Particles.Particle object at 0x7fcb774cef70>], 595: [<Particles.Particles.Particle object at 0x7fcb774cefd0>], 596: [<Particles.Particles.Particle object at 0x7fcb774d4070>], 597: [<Particles.Particles.Particle object at 0x7fcb774d40d0>], 598: [<Particles.Particles.Particle object at 0x7fcb774d4130>], 599: [<Particles.Particles.Particle object at 0x7fcb774d4190>], 600: [<Particles.Particles.Particle object at 0x7fcb774d41f0>], 601: [<Particles.Particles.Particle object at 0x7fcb774d4250>], 602: [<Particles.Particles.Particle object at 0x7fcb774d42b0>], 603: [<Particles.Particles.Particle object at 0x7fcb774d4310>], 604: [<Particles.Particles.Particle object at 0x7fcb774d4370>], 605: [<Particles.Particles.Particle object at 0x7fcb774d43d0>], 606: [<Particles.Particles.Particle object at 0x7fcb774d4430>], 607: [<Particles.Particles.Particle object at 0x7fcb774d4490>], 608: [<Particles.Particles.Particle object at 0x7fcb774d44f0>], 609: [<Particles.Particles.Particle object at 0x7fcb774d4550>], 610: [<Particles.Particles.Particle object at 0x7fcb774d45b0>], 611: [<Particles.Particles.Particle object at 0x7fcb774d4610>], 612: [<Particles.Particles.Particle object at 0x7fcb774d4670>], 613: [<Particles.Particles.Particle object at 0x7fcb774d46d0>], 614: [<Particles.Particles.Particle object at 0x7fcb774d4730>], 615: [<Particles.Particles.Particle object at 0x7fcb774d4790>], 616: [<Particles.Particles.Particle object at 0x7fcb774d47f0>], 617: [<Particles.Particles.Particle object at 0x7fcb774d4850>], 618: [<Particles.Particles.Particle object at 0x7fcb774d48b0>], 619: [<Particles.Particles.Particle object at 0x7fcb774d4910>], 620: [<Particles.Particles.Particle object at 0x7fcb774d4970>], 621: [<Particles.Particles.Particle object at 0x7fcb774d49d0>], 622: [<Particles.Particles.Particle object at 0x7fcb774d4a30>], 623: [<Particles.Particles.Particle object at 0x7fcb774d4a90>], 624: [<Particles.Particles.Particle object at 0x7fcb774d4af0>], 625: [<Particles.Particles.Particle object at 0x7fcb774d4b50>], 626: [<Particles.Particles.Particle object at 0x7fcb774d4bb0>], 627: [<Particles.Particles.Particle object at 0x7fcb774d4c10>], 628: [<Particles.Particles.Particle object at 0x7fcb774d4c70>], 629: [<Particles.Particles.Particle object at 0x7fcb774d4cd0>], 630: [<Particles.Particles.Particle object at 0x7fcb774d4d30>], 631: [<Particles.Particles.Particle object at 0x7fcb774d4d90>], 632: [<Particles.Particles.Particle object at 0x7fcb774d4df0>], 633: [<Particles.Particles.Particle object at 0x7fcb774d4e50>], 634: [<Particles.Particles.Particle object at 0x7fcb774d4eb0>], 635: [<Particles.Particles.Particle object at 0x7fcb774d4f10>], 636: [<Particles.Particles.Particle object at 0x7fcb774d4f70>], 637: [<Particles.Particles.Particle object at 0x7fcb774d4fd0>], 638: [<Particles.Particles.Particle object at 0x7fcb774db070>], 639: [<Particles.Particles.Particle object at 0x7fcb774db0d0>], 640: [<Particles.Particles.Particle object at 0x7fcb774db130>], 641: [<Particles.Particles.Particle object at 0x7fcb774db190>], 642: [<Particles.Particles.Particle object at 0x7fcb774db1f0>], 643: [<Particles.Particles.Particle object at 0x7fcb774db250>], 644: [<Particles.Particles.Particle object at 0x7fcb774db2b0>], 645: [<Particles.Particles.Particle object at 0x7fcb774db310>], 646: [<Particles.Particles.Particle object at 0x7fcb774db370>], 647: [<Particles.Particles.Particle object at 0x7fcb774db3d0>], 648: [<Particles.Particles.Particle object at 0x7fcb774db430>], 649: [<Particles.Particles.Particle object at 0x7fcb774db490>], 650: [<Particles.Particles.Particle object at 0x7fcb774db4f0>], 651: [<Particles.Particles.Particle object at 0x7fcb774db550>], 652: [<Particles.Particles.Particle object at 0x7fcb774db5b0>], 653: [<Particles.Particles.Particle object at 0x7fcb774db610>], 654: [<Particles.Particles.Particle object at 0x7fcb774db670>], 655: [<Particles.Particles.Particle object at 0x7fcb774db6d0>], 656: [<Particles.Particles.Particle object at 0x7fcb774db730>], 657: [<Particles.Particles.Particle object at 0x7fcb774db790>], 658: [<Particles.Particles.Particle object at 0x7fcb774db7f0>], 659: [<Particles.Particles.Particle object at 0x7fcb774db850>], 660: [<Particles.Particles.Particle object at 0x7fcb774db8b0>], 661: [<Particles.Particles.Particle object at 0x7fcb774db910>], 662: [<Particles.Particles.Particle object at 0x7fcb774db970>], 663: [<Particles.Particles.Particle object at 0x7fcb774db9d0>], 664: [<Particles.Particles.Particle object at 0x7fcb774dba30>], 665: [<Particles.Particles.Particle object at 0x7fcb774dba90>], 666: [<Particles.Particles.Particle object at 0x7fcb774dbaf0>], 667: [<Particles.Particles.Particle object at 0x7fcb774dbb50>], 668: [<Particles.Particles.Particle object at 0x7fcb774dbbb0>], 669: [<Particles.Particles.Particle object at 0x7fcb774dbc10>], 670: [<Particles.Particles.Particle object at 0x7fcb774dbc70>], 671: [<Particles.Particles.Particle object at 0x7fcb774dbcd0>], 672: [<Particles.Particles.Particle object at 0x7fcb774dbd30>], 673: [<Particles.Particles.Particle object at 0x7fcb774dbd90>], 674: [<Particles.Particles.Particle object at 0x7fcb774dbdf0>], 675: [<Particles.Particles.Particle object at 0x7fcb774dbe50>], 676: [<Particles.Particles.Particle object at 0x7fcb774dbeb0>], 677: [<Particles.Particles.Particle object at 0x7fcb774dbf10>], 678: [<Particles.Particles.Particle object at 0x7fcb774dbf70>], 679: [<Particles.Particles.Particle object at 0x7fcb774dbfd0>], 680: [<Particles.Particles.Particle object at 0x7fcb774e1070>], 681: [<Particles.Particles.Particle object at 0x7fcb774e10d0>], 682: [<Particles.Particles.Particle object at 0x7fcb774e1130>], 683: [<Particles.Particles.Particle object at 0x7fcb774e1190>], 684: [<Particles.Particles.Particle object at 0x7fcb774e11f0>], 685: [<Particles.Particles.Particle object at 0x7fcb774e1250>], 686: [<Particles.Particles.Particle object at 0x7fcb774e12b0>], 687: [<Particles.Particles.Particle object at 0x7fcb774e1310>], 688: [<Particles.Particles.Particle object at 0x7fcb774e1370>], 689: [<Particles.Particles.Particle object at 0x7fcb774e13d0>], 690: [<Particles.Particles.Particle object at 0x7fcb774e1430>], 691: [<Particles.Particles.Particle object at 0x7fcb774e1490>], 692: [<Particles.Particles.Particle object at 0x7fcb774e14f0>], 693: [<Particles.Particles.Particle object at 0x7fcb774e1550>], 694: [<Particles.Particles.Particle object at 0x7fcb774e15b0>], 695: [<Particles.Particles.Particle object at 0x7fcb774e1610>], 696: [<Particles.Particles.Particle object at 0x7fcb774e1670>], 697: [<Particles.Particles.Particle object at 0x7fcb774e16d0>], 698: [<Particles.Particles.Particle object at 0x7fcb774e1730>], 699: [<Particles.Particles.Particle object at 0x7fcb774e1790>], 700: [<Particles.Particles.Particle object at 0x7fcb774e17f0>], 701: [<Particles.Particles.Particle object at 0x7fcb774e1850>], 702: [<Particles.Particles.Particle object at 0x7fcb774e18b0>], 703: [<Particles.Particles.Particle object at 0x7fcb774e1910>], 704: [<Particles.Particles.Particle object at 0x7fcb774e1970>], 705: [<Particles.Particles.Particle object at 0x7fcb774e19d0>], 706: [<Particles.Particles.Particle object at 0x7fcb774e1a30>], 707: [<Particles.Particles.Particle object at 0x7fcb774e1a90>], 708: [<Particles.Particles.Particle object at 0x7fcb774e1af0>], 709: [<Particles.Particles.Particle object at 0x7fcb774e1b50>], 710: [<Particles.Particles.Particle object at 0x7fcb774e1bb0>], 711: [<Particles.Particles.Particle object at 0x7fcb774e1c10>], 712: [<Particles.Particles.Particle object at 0x7fcb774e1c70>], 713: [<Particles.Particles.Particle object at 0x7fcb774e1cd0>], 714: [<Particles.Particles.Particle object at 0x7fcb774e1d30>], 715: [<Particles.Particles.Particle object at 0x7fcb774e1d90>], 716: [<Particles.Particles.Particle object at 0x7fcb774e1df0>], 717: [<Particles.Particles.Particle object at 0x7fcb774e1e50>], 718: [<Particles.Particles.Particle object at 0x7fcb774e1eb0>], 719: [<Particles.Particles.Particle object at 0x7fcb774e1f10>], 720: [<Particles.Particles.Particle object at 0x7fcb774e1f70>], 721: [<Particles.Particles.Particle object at 0x7fcb774e1fd0>], 722: [<Particles.Particles.Particle object at 0x7fcb774e8070>], 723: [<Particles.Particles.Particle object at 0x7fcb774e80d0>], 724: [<Particles.Particles.Particle object at 0x7fcb774e8130>], 725: [<Particles.Particles.Particle object at 0x7fcb774e8190>], 726: [<Particles.Particles.Particle object at 0x7fcb774e81f0>], 727: [<Particles.Particles.Particle object at 0x7fcb774e8250>], 728: [<Particles.Particles.Particle object at 0x7fcb774e82b0>], 729: [<Particles.Particles.Particle object at 0x7fcb774e8310>], 730: [<Particles.Particles.Particle object at 0x7fcb774e8370>], 731: [<Particles.Particles.Particle object at 0x7fcb774e83d0>], 732: [<Particles.Particles.Particle object at 0x7fcb774e8430>], 733: [<Particles.Particles.Particle object at 0x7fcb774e8490>], 734: [<Particles.Particles.Particle object at 0x7fcb774e84f0>], 735: [<Particles.Particles.Particle object at 0x7fcb774e8550>], 736: [<Particles.Particles.Particle object at 0x7fcb774e85b0>], 737: [<Particles.Particles.Particle object at 0x7fcb774e8610>], 738: [<Particles.Particles.Particle object at 0x7fcb774e8670>], 739: [<Particles.Particles.Particle object at 0x7fcb774e86d0>], 740: [<Particles.Particles.Particle object at 0x7fcb774e8730>], 741: [<Particles.Particles.Particle object at 0x7fcb774e8790>], 742: [<Particles.Particles.Particle object at 0x7fcb774e87f0>], 743: [<Particles.Particles.Particle object at 0x7fcb774e8850>], 744: [<Particles.Particles.Particle object at 0x7fcb774e88b0>], 745: [<Particles.Particles.Particle object at 0x7fcb774e8910>], 746: [<Particles.Particles.Particle object at 0x7fcb774e8970>], 747: [<Particles.Particles.Particle object at 0x7fcb774e89d0>], 748: [<Particles.Particles.Particle object at 0x7fcb774e8a30>], 749: [<Particles.Particles.Particle object at 0x7fcb774e8a90>], 750: [<Particles.Particles.Particle object at 0x7fcb774e8af0>], 751: [<Particles.Particles.Particle object at 0x7fcb774e8b50>], 752: [<Particles.Particles.Particle object at 0x7fcb774e8bb0>], 753: [<Particles.Particles.Particle object at 0x7fcb774e8c10>], 754: [<Particles.Particles.Particle object at 0x7fcb774e8c70>], 755: [<Particles.Particles.Particle object at 0x7fcb774e8cd0>], 756: [<Particles.Particles.Particle object at 0x7fcb774e8d30>], 757: [<Particles.Particles.Particle object at 0x7fcb774e8d90>], 758: [<Particles.Particles.Particle object at 0x7fcb774e8df0>], 759: [<Particles.Particles.Particle object at 0x7fcb774e8e50>], 760: [<Particles.Particles.Particle object at 0x7fcb774e8eb0>], 761: [<Particles.Particles.Particle object at 0x7fcb774e8f10>], 762: [<Particles.Particles.Particle object at 0x7fcb774e8f70>], 763: [<Particles.Particles.Particle object at 0x7fcb774e8fd0>], 764: [<Particles.Particles.Particle object at 0x7fcbfb051070>], 765: [<Particles.Particles.Particle object at 0x7fcbfb0510d0>], 766: [<Particles.Particles.Particle object at 0x7fcbfb051130>], 767: [<Particles.Particles.Particle object at 0x7fcbfb051190>], 768: [<Particles.Particles.Particle object at 0x7fcbfb0511f0>], 769: [<Particles.Particles.Particle object at 0x7fcbfb051250>], 770: [<Particles.Particles.Particle object at 0x7fcbfb0512b0>], 771: [<Particles.Particles.Particle object at 0x7fcbfb051310>], 772: [<Particles.Particles.Particle object at 0x7fcbfb051370>], 773: [<Particles.Particles.Particle object at 0x7fcbfb0513d0>], 774: [<Particles.Particles.Particle object at 0x7fcbfb051430>], 775: [<Particles.Particles.Particle object at 0x7fcbfb051490>], 776: [<Particles.Particles.Particle object at 0x7fcbfb0514f0>], 777: [<Particles.Particles.Particle object at 0x7fcbfb051550>], 778: [<Particles.Particles.Particle object at 0x7fcbfb0515b0>], 779: [<Particles.Particles.Particle object at 0x7fcbfb051610>], 780: [<Particles.Particles.Particle object at 0x7fcbfb051670>], 781: [<Particles.Particles.Particle object at 0x7fcbfb0516d0>], 782: [<Particles.Particles.Particle object at 0x7fcbfb051730>], 783: [<Particles.Particles.Particle object at 0x7fcbfb051790>], 784: [<Particles.Particles.Particle object at 0x7fcbfb0517f0>], 785: [<Particles.Particles.Particle object at 0x7fcbfb051850>], 786: [<Particles.Particles.Particle object at 0x7fcbfb0518b0>], 787: [<Particles.Particles.Particle object at 0x7fcbfb051910>], 788: [<Particles.Particles.Particle object at 0x7fcbfb051970>], 789: [<Particles.Particles.Particle object at 0x7fcbfb0519d0>], 790: [<Particles.Particles.Particle object at 0x7fcbfb051a30>], 791: [<Particles.Particles.Particle object at 0x7fcbfb051a90>], 792: [<Particles.Particles.Particle object at 0x7fcbfb051af0>], 793: [<Particles.Particles.Particle object at 0x7fcbfb051b50>], 794: [<Particles.Particles.Particle object at 0x7fcbfb051bb0>], 795: [<Particles.Particles.Particle object at 0x7fcbfb051c10>], 796: [<Particles.Particles.Particle object at 0x7fcbfb051c70>], 797: [<Particles.Particles.Particle object at 0x7fcbfb051cd0>], 798: [<Particles.Particles.Particle object at 0x7fcbfb051d30>], 799: [<Particles.Particles.Particle object at 0x7fcbfb051d90>], 800: [<Particles.Particles.Particle object at 0x7fcbfb051df0>], 801: [<Particles.Particles.Particle object at 0x7fcbfb051e50>], 802: [<Particles.Particles.Particle object at 0x7fcbfb051eb0>], 803: [<Particles.Particles.Particle object at 0x7fcbfb051f10>], 804: [<Particles.Particles.Particle object at 0x7fcbfb051f70>], 805: [<Particles.Particles.Particle object at 0x7fcbfb051fd0>], 806: [<Particles.Particles.Particle object at 0x7fcbfb057070>], 807: [<Particles.Particles.Particle object at 0x7fcbfb0570d0>], 808: [<Particles.Particles.Particle object at 0x7fcbfb057130>], 809: [<Particles.Particles.Particle object at 0x7fcbfb057190>], 810: [<Particles.Particles.Particle object at 0x7fcbfb0571f0>], 811: [<Particles.Particles.Particle object at 0x7fcbfb057250>], 812: [<Particles.Particles.Particle object at 0x7fcbfb0572b0>], 813: [<Particles.Particles.Particle object at 0x7fcbfb057310>], 814: [<Particles.Particles.Particle object at 0x7fcbfb057370>], 815: [<Particles.Particles.Particle object at 0x7fcbfb0573d0>], 816: [<Particles.Particles.Particle object at 0x7fcbfb057430>], 817: [<Particles.Particles.Particle object at 0x7fcbfb057490>], 818: [<Particles.Particles.Particle object at 0x7fcbfb0574f0>], 819: [<Particles.Particles.Particle object at 0x7fcbfb057550>], 820: [<Particles.Particles.Particle object at 0x7fcbfb0575b0>], 821: [<Particles.Particles.Particle object at 0x7fcbfb057610>], 822: [<Particles.Particles.Particle object at 0x7fcbfb057670>], 823: [<Particles.Particles.Particle object at 0x7fcbfb0576d0>], 824: [<Particles.Particles.Particle object at 0x7fcbfb057730>], 825: [<Particles.Particles.Particle object at 0x7fcbfb057790>], 826: [<Particles.Particles.Particle object at 0x7fcbfb0577f0>], 827: [<Particles.Particles.Particle object at 0x7fcbfb057850>], 828: [<Particles.Particles.Particle object at 0x7fcbfb0578b0>], 829: [<Particles.Particles.Particle object at 0x7fcbfb057910>], 830: [<Particles.Particles.Particle object at 0x7fcbfb057970>], 831: [<Particles.Particles.Particle object at 0x7fcbfb0579d0>], 832: [<Particles.Particles.Particle object at 0x7fcbfb057a30>], 833: [<Particles.Particles.Particle object at 0x7fcbfb057a90>], 834: [<Particles.Particles.Particle object at 0x7fcbfb057af0>], 835: [<Particles.Particles.Particle object at 0x7fcbfb057b50>], 836: [<Particles.Particles.Particle object at 0x7fcbfb057bb0>], 837: [<Particles.Particles.Particle object at 0x7fcbfb057c10>], 838: [<Particles.Particles.Particle object at 0x7fcbfb057c70>], 839: [<Particles.Particles.Particle object at 0x7fcbfb057cd0>], 840: [<Particles.Particles.Particle object at 0x7fcbfb057d30>], 841: [<Particles.Particles.Particle object at 0x7fcbfb057d90>], 842: [<Particles.Particles.Particle object at 0x7fcbfb057df0>], 843: [<Particles.Particles.Particle object at 0x7fcbfb057e50>], 844: [<Particles.Particles.Particle object at 0x7fcbfb057eb0>], 845: [<Particles.Particles.Particle object at 0x7fcbfb057f10>], 846: [<Particles.Particles.Particle object at 0x7fcbfb057f70>], 847: [<Particles.Particles.Particle object at 0x7fcbfb057fd0>], 848: [<Particles.Particles.Particle object at 0x7fcbfb05e070>], 849: [<Particles.Particles.Particle object at 0x7fcbfb05e0d0>], 850: [<Particles.Particles.Particle object at 0x7fcbfb05e130>], 851: [<Particles.Particles.Particle object at 0x7fcbfb05e190>], 852: [<Particles.Particles.Particle object at 0x7fcbfb05e1f0>], 853: [<Particles.Particles.Particle object at 0x7fcbfb05e250>], 854: [<Particles.Particles.Particle object at 0x7fcbfb05e2b0>], 855: [<Particles.Particles.Particle object at 0x7fcbfb05e310>], 856: [<Particles.Particles.Particle object at 0x7fcbfb05e370>], 857: [<Particles.Particles.Particle object at 0x7fcbfb05e3d0>], 858: [<Particles.Particles.Particle object at 0x7fcbfb05e430>], 859: [<Particles.Particles.Particle object at 0x7fcbfb05e490>], 860: [<Particles.Particles.Particle object at 0x7fcbfb05e4f0>], 861: [<Particles.Particles.Particle object at 0x7fcbfb05e550>], 862: [<Particles.Particles.Particle object at 0x7fcbfb05e5b0>], 863: [<Particles.Particles.Particle object at 0x7fcbfb05e610>], 864: [<Particles.Particles.Particle object at 0x7fcbfb05e670>], 865: [<Particles.Particles.Particle object at 0x7fcbfb05e6d0>], 866: [<Particles.Particles.Particle object at 0x7fcbfb05e730>], 867: [<Particles.Particles.Particle object at 0x7fcbfb05e790>], 868: [<Particles.Particles.Particle object at 0x7fcbfb05e7f0>], 869: [<Particles.Particles.Particle object at 0x7fcbfb05e850>], 870: [<Particles.Particles.Particle object at 0x7fcbfb05e8b0>], 871: [<Particles.Particles.Particle object at 0x7fcbfb05e910>], 872: [<Particles.Particles.Particle object at 0x7fcbfb05e970>], 873: [<Particles.Particles.Particle object at 0x7fcbfb05e9d0>], 874: [<Particles.Particles.Particle object at 0x7fcbfb05ea30>], 875: [<Particles.Particles.Particle object at 0x7fcbfb05ea90>], 876: [<Particles.Particles.Particle object at 0x7fcbfb05eaf0>], 877: [<Particles.Particles.Particle object at 0x7fcbfb05eb50>], 878: [<Particles.Particles.Particle object at 0x7fcbfb05ebb0>], 879: [<Particles.Particles.Particle object at 0x7fcbfb05ec10>], 880: [<Particles.Particles.Particle object at 0x7fcbfb05ec70>], 881: [<Particles.Particles.Particle object at 0x7fcbfb05ecd0>], 882: [<Particles.Particles.Particle object at 0x7fcbfb05ed30>], 883: [<Particles.Particles.Particle object at 0x7fcbfb05ed90>], 884: [<Particles.Particles.Particle object at 0x7fcbfb05edf0>], 885: [<Particles.Particles.Particle object at 0x7fcbfb05ee50>], 886: [<Particles.Particles.Particle object at 0x7fcbfb05eeb0>], 887: [<Particles.Particles.Particle object at 0x7fcbfb05ef10>], 888: [<Particles.Particles.Particle object at 0x7fcbfb05ef70>], 889: [<Particles.Particles.Particle object at 0x7fcbfb05efd0>], 890: [<Particles.Particles.Particle object at 0x7fcbfb065070>], 891: [<Particles.Particles.Particle object at 0x7fcbfb0650d0>], 892: [<Particles.Particles.Particle object at 0x7fcbfb065130>], 893: [<Particles.Particles.Particle object at 0x7fcbfb065190>], 894: [<Particles.Particles.Particle object at 0x7fcbfb0651f0>], 895: [<Particles.Particles.Particle object at 0x7fcbfb065250>], 896: [<Particles.Particles.Particle object at 0x7fcbfb0652b0>], 897: [<Particles.Particles.Particle object at 0x7fcbfb065310>], 898: [<Particles.Particles.Particle object at 0x7fcbfb065370>], 899: [<Particles.Particles.Particle object at 0x7fcbfb0653d0>], 900: [<Particles.Particles.Particle object at 0x7fcbfb065430>], 901: [<Particles.Particles.Particle object at 0x7fcbfb065490>], 902: [<Particles.Particles.Particle object at 0x7fcbfb0654f0>], 903: [<Particles.Particles.Particle object at 0x7fcbfb065550>], 904: [<Particles.Particles.Particle object at 0x7fcbfb0655b0>], 905: [<Particles.Particles.Particle object at 0x7fcbfb065610>], 906: [<Particles.Particles.Particle object at 0x7fcbfb065670>], 907: [<Particles.Particles.Particle object at 0x7fcbfb0656d0>], 908: [<Particles.Particles.Particle object at 0x7fcbfb065730>], 909: [<Particles.Particles.Particle object at 0x7fcbfb065790>], 910: [<Particles.Particles.Particle object at 0x7fcbfb0657f0>], 911: [<Particles.Particles.Particle object at 0x7fcbfb065850>], 912: [<Particles.Particles.Particle object at 0x7fcbfb0658b0>], 913: [<Particles.Particles.Particle object at 0x7fcbfb065910>], 914: [<Particles.Particles.Particle object at 0x7fcbfb065970>], 915: [<Particles.Particles.Particle object at 0x7fcbfb0659d0>], 916: [<Particles.Particles.Particle object at 0x7fcbfb065a30>], 917: [<Particles.Particles.Particle object at 0x7fcbfb065a90>], 918: [<Particles.Particles.Particle object at 0x7fcbfb065af0>], 919: [<Particles.Particles.Particle object at 0x7fcbfb065b50>], 920: [<Particles.Particles.Particle object at 0x7fcbfb065bb0>], 921: [<Particles.Particles.Particle object at 0x7fcbfb065c10>], 922: [<Particles.Particles.Particle object at 0x7fcbfb065c70>], 923: [<Particles.Particles.Particle object at 0x7fcbfb065cd0>], 924: [<Particles.Particles.Particle object at 0x7fcbfb065d30>], 925: [<Particles.Particles.Particle object at 0x7fcbfb065d90>], 926: [<Particles.Particles.Particle object at 0x7fcbfb065df0>], 927: [<Particles.Particles.Particle object at 0x7fcbfb065e50>], 928: [<Particles.Particles.Particle object at 0x7fcbfb065eb0>], 929: [<Particles.Particles.Particle object at 0x7fcbfb065f10>], 930: [<Particles.Particles.Particle object at 0x7fcbfb065f70>], 931: [<Particles.Particles.Particle object at 0x7fcbfb065fd0>], 932: [<Particles.Particles.Particle object at 0x7fcbfb06b070>], 933: [<Particles.Particles.Particle object at 0x7fcbfb06b0d0>], 934: [<Particles.Particles.Particle object at 0x7fcbfb06b130>], 935: [<Particles.Particles.Particle object at 0x7fcbfb06b190>], 936: [<Particles.Particles.Particle object at 0x7fcbfb06b1f0>], 937: [<Particles.Particles.Particle object at 0x7fcbfb06b250>], 938: [<Particles.Particles.Particle object at 0x7fcbfb06b2b0>], 939: [<Particles.Particles.Particle object at 0x7fcbfb06b310>], 940: [<Particles.Particles.Particle object at 0x7fcbfb06b370>], 941: [<Particles.Particles.Particle object at 0x7fcbfb06b3d0>], 942: [<Particles.Particles.Particle object at 0x7fcbfb06b430>], 943: [<Particles.Particles.Particle object at 0x7fcbfb06b490>], 944: [<Particles.Particles.Particle object at 0x7fcbfb06b4f0>], 945: [<Particles.Particles.Particle object at 0x7fcbfb06b550>], 946: [<Particles.Particles.Particle object at 0x7fcbfb06b5b0>], 947: [<Particles.Particles.Particle object at 0x7fcbfb06b610>], 948: [<Particles.Particles.Particle object at 0x7fcbfb06b670>], 949: [<Particles.Particles.Particle object at 0x7fcbfb06b6d0>], 950: [<Particles.Particles.Particle object at 0x7fcbfb06b730>], 951: [<Particles.Particles.Particle object at 0x7fcbfb06b790>], 952: [<Particles.Particles.Particle object at 0x7fcbfb06b7f0>], 953: [<Particles.Particles.Particle object at 0x7fcbfb06b850>], 954: [<Particles.Particles.Particle object at 0x7fcbfb06b8b0>], 955: [<Particles.Particles.Particle object at 0x7fcbfb06b910>], 956: [<Particles.Particles.Particle object at 0x7fcbfb06b970>], 957: [<Particles.Particles.Particle object at 0x7fcbfb06b9d0>], 958: [<Particles.Particles.Particle object at 0x7fcbfb06ba30>], 959: [<Particles.Particles.Particle object at 0x7fcbfb06ba90>], 960: [<Particles.Particles.Particle object at 0x7fcbfb06baf0>], 961: [<Particles.Particles.Particle object at 0x7fcbfb06bb50>], 962: [<Particles.Particles.Particle object at 0x7fcbfb06bbb0>], 963: [<Particles.Particles.Particle object at 0x7fcbfb06bc10>], 964: [<Particles.Particles.Particle object at 0x7fcbfb06bc70>], 965: [<Particles.Particles.Particle object at 0x7fcbfb06bcd0>], 966: [<Particles.Particles.Particle object at 0x7fcbfb06bd30>], 967: [<Particles.Particles.Particle object at 0x7fcbfb06bd90>], 968: [<Particles.Particles.Particle object at 0x7fcc0648a1c0>], 969: [<Particles.Particles.Particle object at 0x7fcc0648a280>], 970: [<Particles.Particles.Particle object at 0x7fcc0648a340>], 971: [<Particles.Particles.Particle object at 0x7fcc0648a400>], 972: [<Particles.Particles.Particle object at 0x7fcc0648a4c0>], 973: [<Particles.Particles.Particle object at 0x7fcc0648a580>], 974: [<Particles.Particles.Particle object at 0x7fcc0648a640>], 975: [<Particles.Particles.Particle object at 0x7fcc0648a700>], 976: [<Particles.Particles.Particle object at 0x7fcc0648a7c0>], 977: [<Particles.Particles.Particle object at 0x7fcc0648a880>], 978: [<Particles.Particles.Particle object at 0x7fcc0648a940>], 979: [<Particles.Particles.Particle object at 0x7fcc0648aa00>], 980: [<Particles.Particles.Particle object at 0x7fcc0648aac0>], 981: [<Particles.Particles.Particle object at 0x7fcc0648ab80>], 982: [<Particles.Particles.Particle object at 0x7fcc0648ac40>], 983: [<Particles.Particles.Particle object at 0x7fcc0648ad00>], 984: [<Particles.Particles.Particle object at 0x7fcc0648adc0>], 985: [<Particles.Particles.Particle object at 0x7fcc0648ae80>], 986: [<Particles.Particles.Particle object at 0x7fcc0648af40>], 987: [<Particles.Particles.Particle object at 0x7fcc064a8040>], 988: [<Particles.Particles.Particle object at 0x7fcc064a8100>], 989: [<Particles.Particles.Particle object at 0x7fcc064a81c0>], 990: [<Particles.Particles.Particle object at 0x7fcc064a8280>], 991: [<Particles.Particles.Particle object at 0x7fcc064a8340>], 992: [<Particles.Particles.Particle object at 0x7fcc064a8400>], 993: [<Particles.Particles.Particle object at 0x7fcc064a84c0>], 994: [<Particles.Particles.Particle object at 0x7fcc064a8580>], 995: [<Particles.Particles.Particle object at 0x7fcc064a8640>], 996: [<Particles.Particles.Particle object at 0x7fcc064a8700>], 997: [<Particles.Particles.Particle object at 0x7fcc064a87c0>], 998: [<Particles.Particles.Particle object at 0x7fcc064a8880>], 999: [<Particles.Particles.Particle object at 0x7fcc064a8940>], 1000: [<Particles.Particles.Particle object at 0x7fcc064a8a00>], 1001: [<Particles.Particles.Particle object at 0x7fcc064a8ac0>], 1002: [<Particles.Particles.Particle object at 0x7fcc064a8b80>], 1003: [<Particles.Particles.Particle object at 0x7fcc064a8c40>], 1004: [<Particles.Particles.Particle object at 0x7fcc064a8d00>], 1005: [<Particles.Particles.Particle object at 0x7fcc064a8dc0>], 1006: [<Particles.Particles.Particle object at 0x7fcc064a8e80>], 1007: [<Particles.Particles.Particle object at 0x7fcc064a8f40>], 1008: [<Particles.Particles.Particle object at 0x7fcc064b5040>], 1009: [<Particles.Particles.Particle object at 0x7fcc064b5100>], 1010: [<Particles.Particles.Particle object at 0x7fcc064b51c0>], 1011: [<Particles.Particles.Particle object at 0x7fcc064b5280>], 1012: [<Particles.Particles.Particle object at 0x7fcc064b5340>], 1013: [<Particles.Particles.Particle object at 0x7fcc064b5400>], 1014: [<Particles.Particles.Particle object at 0x7fcc064b54c0>], 1015: [<Particles.Particles.Particle object at 0x7fcc064b5580>], 1016: [<Particles.Particles.Particle object at 0x7fcc064b5640>], 1017: [<Particles.Particles.Particle object at 0x7fcc064b5700>], 1018: [<Particles.Particles.Particle object at 0x7fcc064b57c0>], 1019: [<Particles.Particles.Particle object at 0x7fcc064b5880>], 1020: [<Particles.Particles.Particle object at 0x7fcc064b5940>], 1021: [<Particles.Particles.Particle object at 0x7fcc064b5a00>], 1022: [<Particles.Particles.Particle object at 0x7fcc064b5ac0>], 1023: [<Particles.Particles.Particle object at 0x7fcc064b5b80>], 1024: [<Particles.Particles.Particle object at 0x7fcc064b5c40>], 1025: [<Particles.Particles.Particle object at 0x7fcc064b5d00>], 1026: [<Particles.Particles.Particle object at 0x7fcc064b5dc0>], 1027: [<Particles.Particles.Particle object at 0x7fcc064b5e80>], 1028: [<Particles.Particles.Particle object at 0x7fcc064b5f40>], 1029: [<Particles.Particles.Particle object at 0x7fcc064c1040>], 1030: [<Particles.Particles.Particle object at 0x7fcc064c1100>], 1031: [<Particles.Particles.Particle object at 0x7fcc064c11c0>], 1032: [<Particles.Particles.Particle object at 0x7fcc064c1280>], 1033: [<Particles.Particles.Particle object at 0x7fcc064c1340>], 1034: [<Particles.Particles.Particle object at 0x7fcc064c1400>], 1035: [<Particles.Particles.Particle object at 0x7fcc064c14c0>], 1036: [<Particles.Particles.Particle object at 0x7fcc064c1580>], 1037: [<Particles.Particles.Particle object at 0x7fcc064c16a0>], 1038: [<Particles.Particles.Particle object at 0x7fcc064c1700>], 1039: [<Particles.Particles.Particle object at 0x7fcc064c17c0>], 1040: [<Particles.Particles.Particle object at 0x7fcc064c1880>], 1041: [<Particles.Particles.Particle object at 0x7fcc064c1940>], 1042: [<Particles.Particles.Particle object at 0x7fcc064c1a00>], 1043: [<Particles.Particles.Particle object at 0x7fcc064c1ac0>], 1044: [<Particles.Particles.Particle object at 0x7fcc064c1b80>], 1045: [<Particles.Particles.Particle object at 0x7fcc064c1c40>], 1046: [<Particles.Particles.Particle object at 0x7fcc064c1d00>], 1047: [<Particles.Particles.Particle object at 0x7fcc064c1dc0>], 1048: [<Particles.Particles.Particle object at 0x7fcc064c1e80>], 1049: [<Particles.Particles.Particle object at 0x7fcc064c1f40>], 1050: [<Particles.Particles.Particle object at 0x7fcc064c0040>], 1051: [<Particles.Particles.Particle object at 0x7fcc064c0100>], 1052: [<Particles.Particles.Particle object at 0x7fcc064c01c0>], 1053: [<Particles.Particles.Particle object at 0x7fcc064c0280>], 1054: [<Particles.Particles.Particle object at 0x7fcc064c0340>], 1055: [<Particles.Particles.Particle object at 0x7fcc064c0400>], 1056: [<Particles.Particles.Particle object at 0x7fcc064c04c0>], 1057: [<Particles.Particles.Particle object at 0x7fcc064c0580>], 1058: [<Particles.Particles.Particle object at 0x7fcc064c0640>], 1059: [<Particles.Particles.Particle object at 0x7fcc064c0700>], 1060: [<Particles.Particles.Particle object at 0x7fcc064c07c0>], 1061: [<Particles.Particles.Particle object at 0x7fcc064c0880>], 1062: [<Particles.Particles.Particle object at 0x7fcc064c0940>], 1063: [<Particles.Particles.Particle object at 0x7fcc064c0a00>], 1064: [<Particles.Particles.Particle object at 0x7fcc064c0ac0>], 1065: [<Particles.Particles.Particle object at 0x7fcc064c0b80>], 1066: [<Particles.Particles.Particle object at 0x7fcc064c0c40>], 1067: [<Particles.Particles.Particle object at 0x7fcc064c0d00>], 1068: [<Particles.Particles.Particle object at 0x7fcc064c0dc0>], 1069: [<Particles.Particles.Particle object at 0x7fcc064c0e80>], 1070: [<Particles.Particles.Particle object at 0x7fcc064c0f40>], 1071: [<Particles.Particles.Particle object at 0x7fcc064ba040>], 1072: [<Particles.Particles.Particle object at 0x7fcc064ba100>], 1073: [<Particles.Particles.Particle object at 0x7fcc064ba1c0>], 1074: [<Particles.Particles.Particle object at 0x7fcc064ba280>], 1075: [<Particles.Particles.Particle object at 0x7fcc064ba340>], 1076: [<Particles.Particles.Particle object at 0x7fcc064ba400>], 1077: [<Particles.Particles.Particle object at 0x7fcc064ba4c0>], 1078: [<Particles.Particles.Particle object at 0x7fcc064ba580>], 1079: [<Particles.Particles.Particle object at 0x7fcc064ba640>], 1080: [<Particles.Particles.Particle object at 0x7fcc064ba700>], 1081: [<Particles.Particles.Particle object at 0x7fcc064ba7c0>], 1082: [<Particles.Particles.Particle object at 0x7fcc064ba880>], 1083: [<Particles.Particles.Particle object at 0x7fcc064ba940>], 1084: [<Particles.Particles.Particle object at 0x7fcc064baa00>], 1085: [<Particles.Particles.Particle object at 0x7fcc064baac0>], 1086: [<Particles.Particles.Particle object at 0x7fcc064bab80>], 1087: [<Particles.Particles.Particle object at 0x7fcc064bac40>], 1088: [<Particles.Particles.Particle object at 0x7fcc064bad00>], 1089: [<Particles.Particles.Particle object at 0x7fcc064badc0>], 1090: [<Particles.Particles.Particle object at 0x7fcc064bae80>], 1091: [<Particles.Particles.Particle object at 0x7fcc064baf40>], 1092: [<Particles.Particles.Particle object at 0x7fcc064ad040>], 1093: [<Particles.Particles.Particle object at 0x7fcc064ad100>], 1094: [<Particles.Particles.Particle object at 0x7fcc064ad1c0>], 1095: [<Particles.Particles.Particle object at 0x7fcc064ad280>], 1096: [<Particles.Particles.Particle object at 0x7fcc064ad340>], 1097: [<Particles.Particles.Particle object at 0x7fcc064ad400>], 1098: [<Particles.Particles.Particle object at 0x7fcc064ad4c0>], 1099: [<Particles.Particles.Particle object at 0x7fcc064ad580>], 1100: [<Particles.Particles.Particle object at 0x7fcc064ad640>], 1101: [<Particles.Particles.Particle object at 0x7fcc064ad700>], 1102: [<Particles.Particles.Particle object at 0x7fcc064ad7c0>], 1103: [<Particles.Particles.Particle object at 0x7fcc064ad880>], 1104: [<Particles.Particles.Particle object at 0x7fcc064ad940>], 1105: [<Particles.Particles.Particle object at 0x7fcc064ada00>], 1106: [<Particles.Particles.Particle object at 0x7fcc064adac0>], 1107: [<Particles.Particles.Particle object at 0x7fcc064adb80>], 1108: [<Particles.Particles.Particle object at 0x7fcc064adc40>], 1109: [<Particles.Particles.Particle object at 0x7fcc064add00>], 1110: [<Particles.Particles.Particle object at 0x7fcc064addc0>], 1111: [<Particles.Particles.Particle object at 0x7fcc064ade80>], 1112: [<Particles.Particles.Particle object at 0x7fcc064adf40>], 1113: [<Particles.Particles.Particle object at 0x7fcc064a4040>], 1114: [<Particles.Particles.Particle object at 0x7fcc064a4100>], 1115: [<Particles.Particles.Particle object at 0x7fcc064a41c0>], 1116: [<Particles.Particles.Particle object at 0x7fcc064a4280>], 1117: [<Particles.Particles.Particle object at 0x7fcc064a4340>], 1118: [<Particles.Particles.Particle object at 0x7fcc064a4400>], 1119: [<Particles.Particles.Particle object at 0x7fcc064a44c0>], 1120: [<Particles.Particles.Particle object at 0x7fcc064a4580>], 1121: [<Particles.Particles.Particle object at 0x7fcc064a4640>], 1122: [<Particles.Particles.Particle object at 0x7fcc064a4700>], 1123: [<Particles.Particles.Particle object at 0x7fcc064a47c0>], 1124: [<Particles.Particles.Particle object at 0x7fcc064a4880>], 1125: [<Particles.Particles.Particle object at 0x7fcc064a4940>], 1126: [<Particles.Particles.Particle object at 0x7fcc064a4a00>], 1127: [<Particles.Particles.Particle object at 0x7fcc064a4ac0>], 1128: [<Particles.Particles.Particle object at 0x7fcc064a4b80>], 1129: [<Particles.Particles.Particle object at 0x7fcc064a4c40>], 1130: [<Particles.Particles.Particle object at 0x7fcc064a4d00>], 1131: [<Particles.Particles.Particle object at 0x7fcc064a4dc0>], 1132: [<Particles.Particles.Particle object at 0x7fcc064a4e80>], 1133: [<Particles.Particles.Particle object at 0x7fcc064a4f40>], 1134: [<Particles.Particles.Particle object at 0x7fcc06495040>], 1135: [<Particles.Particles.Particle object at 0x7fcc06495100>], 1136: [<Particles.Particles.Particle object at 0x7fcc064951c0>], 1137: [<Particles.Particles.Particle object at 0x7fcc06495280>], 1138: [<Particles.Particles.Particle object at 0x7fcc06495340>], 1139: [<Particles.Particles.Particle object at 0x7fcc06495400>], 1140: [<Particles.Particles.Particle object at 0x7fcc064954c0>], 1141: [<Particles.Particles.Particle object at 0x7fcc06495580>], 1142: [<Particles.Particles.Particle object at 0x7fcc06495640>], 1143: [<Particles.Particles.Particle object at 0x7fcc06495700>], 1144: [<Particles.Particles.Particle object at 0x7fcc064957c0>], 1145: [<Particles.Particles.Particle object at 0x7fcc06495880>], 1146: [<Particles.Particles.Particle object at 0x7fcc06495940>], 1147: [<Particles.Particles.Particle object at 0x7fcc06495a00>], 1148: [<Particles.Particles.Particle object at 0x7fcc06495ac0>], 1149: [<Particles.Particles.Particle object at 0x7fcc06495b80>], 1150: [<Particles.Particles.Particle object at 0x7fcc06495c40>], 1151: [<Particles.Particles.Particle object at 0x7fcc06495d00>], 1152: [<Particles.Particles.Particle object at 0x7fcc06495dc0>], 1153: [<Particles.Particles.Particle object at 0x7fcc06495e80>], 1154: [<Particles.Particles.Particle object at 0x7fcc06495f40>], 1155: [<Particles.Particles.Particle object at 0x7fcc0648c040>], 1156: [<Particles.Particles.Particle object at 0x7fcc0648c100>], 1157: [<Particles.Particles.Particle object at 0x7fcc0648c1c0>], 1158: [<Particles.Particles.Particle object at 0x7fcc0648c280>], 1159: [<Particles.Particles.Particle object at 0x7fcc0648c340>], 1160: [<Particles.Particles.Particle object at 0x7fcc0648c400>], 1161: [<Particles.Particles.Particle object at 0x7fcc0648c4c0>], 1162: [<Particles.Particles.Particle object at 0x7fcc0648c580>], 1163: [<Particles.Particles.Particle object at 0x7fcc0648c640>], 1164: [<Particles.Particles.Particle object at 0x7fcc0648c700>], 1165: [<Particles.Particles.Particle object at 0x7fcc0648c7c0>], 1166: [<Particles.Particles.Particle object at 0x7fcc0648c880>], 1167: [<Particles.Particles.Particle object at 0x7fcc0648c940>], 1168: [<Particles.Particles.Particle object at 0x7fcc0648ca00>], 1169: [<Particles.Particles.Particle object at 0x7fcc0648cac0>], 1170: [<Particles.Particles.Particle object at 0x7fcc0648cb80>], 1171: [<Particles.Particles.Particle object at 0x7fcc0648cc40>], 1172: [<Particles.Particles.Particle object at 0x7fcc0648cd00>], 1173: [<Particles.Particles.Particle object at 0x7fcc0648cdc0>], 1174: [<Particles.Particles.Particle object at 0x7fcc0648ce80>], 1175: [<Particles.Particles.Particle object at 0x7fcc0648cf40>], 1176: [<Particles.Particles.Particle object at 0x7fcb774fb040>], 1177: [<Particles.Particles.Particle object at 0x7fcb774fb100>], 1178: [<Particles.Particles.Particle object at 0x7fcb774fb1c0>], 1179: [<Particles.Particles.Particle object at 0x7fcb774fb280>], 1180: [<Particles.Particles.Particle object at 0x7fcb774fb340>], 1181: [<Particles.Particles.Particle object at 0x7fcb774fb400>], 1182: [<Particles.Particles.Particle object at 0x7fcb774fb4c0>], 1183: [<Particles.Particles.Particle object at 0x7fcb774fb580>], 1184: [<Particles.Particles.Particle object at 0x7fcb774fb640>], 1185: [<Particles.Particles.Particle object at 0x7fcb774fb700>], 1186: [<Particles.Particles.Particle object at 0x7fcb774fb7c0>], 1187: [<Particles.Particles.Particle object at 0x7fcb774fb880>], 1188: [<Particles.Particles.Particle object at 0x7fcb774fb940>], 1189: [<Particles.Particles.Particle object at 0x7fcb774fba00>], 1190: [<Particles.Particles.Particle object at 0x7fcb774fbac0>], 1191: [<Particles.Particles.Particle object at 0x7fcb774fbb80>], 1192: [<Particles.Particles.Particle object at 0x7fcb774fbc40>], 1193: [<Particles.Particles.Particle object at 0x7fcb774fbd00>], 1194: [<Particles.Particles.Particle object at 0x7fcb774fbdc0>], 1195: [<Particles.Particles.Particle object at 0x7fcb774fbe80>], 1196: [<Particles.Particles.Particle object at 0x7fcb774fbf40>], 1197: [<Particles.Particles.Particle object at 0x7fcb774c1040>], 1198: [<Particles.Particles.Particle object at 0x7fcb774c1100>], 1199: [<Particles.Particles.Particle object at 0x7fcb774c11c0>], 1200: [<Particles.Particles.Particle object at 0x7fcb774c1280>], 1201: [<Particles.Particles.Particle object at 0x7fcb774c1340>], 1202: [<Particles.Particles.Particle object at 0x7fcb774c1400>], 1203: [<Particles.Particles.Particle object at 0x7fcb774c14c0>], 1204: [<Particles.Particles.Particle object at 0x7fcb774c1580>], 1205: [<Particles.Particles.Particle object at 0x7fcb774c1640>], 1206: [<Particles.Particles.Particle object at 0x7fcb774c1700>], 1207: [<Particles.Particles.Particle object at 0x7fcb774c17c0>], 1208: [<Particles.Particles.Particle object at 0x7fcb774c1880>], 1209: [<Particles.Particles.Particle object at 0x7fcb774c1940>], 1210: [<Particles.Particles.Particle object at 0x7fcb774c1a00>], 1211: [<Particles.Particles.Particle object at 0x7fcb774c1ac0>], 1212: [<Particles.Particles.Particle object at 0x7fcb774c1b80>], 1213: [<Particles.Particles.Particle object at 0x7fcb774c1c40>], 1214: [<Particles.Particles.Particle object at 0x7fcb774c1d00>], 1215: [<Particles.Particles.Particle object at 0x7fcb774c1dc0>], 1216: [<Particles.Particles.Particle object at 0x7fcb774c1e80>], 1217: [<Particles.Particles.Particle object at 0x7fcb774c1f40>], 1218: [<Particles.Particles.Particle object at 0x7fcb774c8040>], 1219: [<Particles.Particles.Particle object at 0x7fcb774c8100>], 1220: [<Particles.Particles.Particle object at 0x7fcb774c81c0>], 1221: [<Particles.Particles.Particle object at 0x7fcb774c8280>], 1222: [<Particles.Particles.Particle object at 0x7fcb774c8340>], 1223: [<Particles.Particles.Particle object at 0x7fcb774c8400>], 1224: [<Particles.Particles.Particle object at 0x7fcb774c84c0>], 1225: [<Particles.Particles.Particle object at 0x7fcb774c8580>], 1226: [<Particles.Particles.Particle object at 0x7fcb774c8640>], 1227: [<Particles.Particles.Particle object at 0x7fcb774c8700>], 1228: [<Particles.Particles.Particle object at 0x7fcb774c87c0>], 1229: [<Particles.Particles.Particle object at 0x7fcb774c8880>], 1230: [<Particles.Particles.Particle object at 0x7fcb774c8940>], 1231: [<Particles.Particles.Particle object at 0x7fcb774c8a00>], 1232: [<Particles.Particles.Particle object at 0x7fcb774c8ac0>], 1233: [<Particles.Particles.Particle object at 0x7fcb774c8b80>], 1234: [<Particles.Particles.Particle object at 0x7fcb774c8c40>], 1235: [<Particles.Particles.Particle object at 0x7fcb774c8d00>], 1236: [<Particles.Particles.Particle object at 0x7fcb774c8dc0>], 1237: [<Particles.Particles.Particle object at 0x7fcb774c8e80>], 1238: [<Particles.Particles.Particle object at 0x7fcb774c8f40>], 1239: [<Particles.Particles.Particle object at 0x7fcb774ce040>], 1240: [<Particles.Particles.Particle object at 0x7fcb774ce100>], 1241: [<Particles.Particles.Particle object at 0x7fcb774ce1c0>], 1242: [<Particles.Particles.Particle object at 0x7fcb774ce280>], 1243: [<Particles.Particles.Particle object at 0x7fcb774ce340>], 1244: [<Particles.Particles.Particle object at 0x7fcb774ce400>], 1245: [<Particles.Particles.Particle object at 0x7fcb774ce4c0>], 1246: [<Particles.Particles.Particle object at 0x7fcb774ce580>], 1247: [<Particles.Particles.Particle object at 0x7fcb774ce640>], 1248: [<Particles.Particles.Particle object at 0x7fcb774ce700>], 1249: [<Particles.Particles.Particle object at 0x7fcb774ce7c0>], 1250: [<Particles.Particles.Particle object at 0x7fcb774ce880>], 1251: [<Particles.Particles.Particle object at 0x7fcb774ce940>], 1252: [<Particles.Particles.Particle object at 0x7fcb774cea00>], 1253: [<Particles.Particles.Particle object at 0x7fcb774ceac0>], 1254: [<Particles.Particles.Particle object at 0x7fcb774ceb80>], 1255: [<Particles.Particles.Particle object at 0x7fcb774cec40>], 1256: [<Particles.Particles.Particle object at 0x7fcb774ced00>], 1257: [<Particles.Particles.Particle object at 0x7fcb774cedc0>], 1258: [<Particles.Particles.Particle object at 0x7fcb774cee80>], 1259: [<Particles.Particles.Particle object at 0x7fcb774cef40>], 1260: [<Particles.Particles.Particle object at 0x7fcb774d4040>], 1261: [<Particles.Particles.Particle object at 0x7fcb774d4100>], 1262: [<Particles.Particles.Particle object at 0x7fcb774d41c0>], 1263: [<Particles.Particles.Particle object at 0x7fcb774d4280>], 1264: [<Particles.Particles.Particle object at 0x7fcb774d4340>], 1265: [<Particles.Particles.Particle object at 0x7fcb774d4400>], 1266: [<Particles.Particles.Particle object at 0x7fcb774d44c0>], 1267: [<Particles.Particles.Particle object at 0x7fcb774d4580>], 1268: [<Particles.Particles.Particle object at 0x7fcb774d4640>], 1269: [<Particles.Particles.Particle object at 0x7fcb774d4700>], 1270: [<Particles.Particles.Particle object at 0x7fcb774d47c0>], 1271: [<Particles.Particles.Particle object at 0x7fcb774d4880>], 1272: [<Particles.Particles.Particle object at 0x7fcb774d4940>], 1273: [<Particles.Particles.Particle object at 0x7fcb774d4a00>], 1274: [<Particles.Particles.Particle object at 0x7fcb774d4ac0>], 1275: [<Particles.Particles.Particle object at 0x7fcb774d4b80>], 1276: [<Particles.Particles.Particle object at 0x7fcb774d4c40>], 1277: [<Particles.Particles.Particle object at 0x7fcb774d4d00>], 1278: [<Particles.Particles.Particle object at 0x7fcb774d4dc0>], 1279: [<Particles.Particles.Particle object at 0x7fcb774d4e80>], 1280: [<Particles.Particles.Particle object at 0x7fcb774d4f40>], 1281: [<Particles.Particles.Particle object at 0x7fcb774db040>], 1282: [<Particles.Particles.Particle object at 0x7fcb774db100>], 1283: [<Particles.Particles.Particle object at 0x7fcb774db1c0>], 1284: [<Particles.Particles.Particle object at 0x7fcb774db280>], 1285: [<Particles.Particles.Particle object at 0x7fcb774db340>], 1286: [<Particles.Particles.Particle object at 0x7fcb774db400>], 1287: [<Particles.Particles.Particle object at 0x7fcb774db4c0>], 1288: [<Particles.Particles.Particle object at 0x7fcb774db580>]}\n",
      "\u001b[1;92mEVENTCOMPILER::INFO::\u001b[0m\u001b[0;92mFINISHED COMPILING EVENTS FROM FILE -> /import/wu1/atlas/alit6074/Madgraph/Semi-lepton/Events/run_11/tag_1_delphes_events.root\u001b[0m\n"
     ]
    }
   ],
   "source": [
    "E = Event()\n",
    "Limit = 1\n",
    "ev = EventGenerator(FileDir, Stop = Limit)\n",
    "ev.EventImplementation = E\n",
    "ev.SpawnEvents()\n",
    "ev.CompileEvent(True)"
   ]
  },
  {
   "cell_type": "code",
   "execution_count": 107,
   "id": "bc402719",
   "metadata": {},
   "outputs": [],
   "source": [
    "def Sort_2 (a,target, Top_Number):  \n",
    "    if isinstance(a, list):\n",
    "        for i in a:\n",
    "            #print(i.Mother1, i.PID, i.Status, i.Index)\n",
    "            target.Index = Top_Number\n",
    "            if i not in target.Decay:\n",
    "                target.Decay.append(i)\n",
    "            i.Index = Top_Number\n",
    "            Sort_2(i,target, Top_Number)\n",
    "        return\n",
    "\n",
    "                  \n",
    "    else:\n",
    "        D1_i = a.Daughter1\n",
    "        D2_i = a.Daughter2\n",
    "        Stat = a.Status\n",
    "        #if abs(a.PID) !=6:\n",
    "        #    if Stat == 22 or Stat == 23:\n",
    "        #        a.Index = Top_Number\n",
    "        #        Fudge.append(a)\n",
    "        if Stat == 1:\n",
    "            a.Index = Top_Number\n",
    "            if a not in Fudge:\n",
    "                Fudge.append(a)\n",
    "            #print(\"END\")\n",
    "        elif D1_i == D2_i:\n",
    "            if Part_i[D1_i] not in a.Decay:\n",
    "                a.Decay.append(Part_i[D1_i])\n",
    "            a.Index = Top_Number\n",
    "            #print(D1_i, Part_i[D1_i].PID,Part_i[D1_i].Status, Part_i[D1_i].Index)\n",
    "            return Sort_2(Part_i[D1_i],a, Top_Number)\n",
    "        elif D1_i != D2_i:\n",
    "            Soup = Part_i[D1_i:(D2_i+1)]\n",
    "            a.Index = Top_Number\n",
    "            #target.Decay.append(Soup)\n",
    "            \n",
    "            return Sort_2(Soup,a, Top_Number)\n",
    "     "
   ]
  },
  {
   "cell_type": "code",
   "execution_count": 112,
   "id": "229eb7ae",
   "metadata": {
    "scrolled": false
   },
   "outputs": [
    {
     "data": {
      "text/plain": [
       "-6.751867118737209e-06"
      ]
     },
     "execution_count": 112,
     "metadata": {},
     "output_type": "execute_result"
    }
   ],
   "source": [
    "event=ev.Events[2232][\"Delphes\"]\n",
    "Part_i=event.Particle\n",
    "Tops=[]\n",
    "IDFK =[]\n",
    "Fudge = []\n",
    "Fudge_2=[]\n",
    "tun = []\n",
    "for e in range(int(len(Part_i))):\n",
    "        Target_Top=Part_i[e]\n",
    "        if Target_Top.PID == -6 and Target_Top.Status == 62:\n",
    "            Tops= Tops + [Target_Top]\n",
    "Topp=Tops[0]\n",
    "ptT=Topp.PT\n",
    "phiT=Topp.Phi\n",
    "etaT=Topp.Eta\n",
    "ET=Topp.E\n",
    "PxT=ptT*np.cos(phiT)\n",
    "PyT=ptT*np.sin(phiT)\n",
    "PzT=ptT*np.sinh(etaT)\n",
    "Final_Four_T= [ET, PxT, PyT, PzT]\n",
    "Initial_Mass_T=np.sqrt(Final_Four_T[0]**2-(Final_Four_T[1]**2+Final_Four_T[2]**2 + Final_Four_T[3]**2))\n",
    "\n",
    "Top_Index = \"Anti-Top\"\n",
    "Sort_2(Tops[0],Tops[0], Top_Index)\n",
    "for t in Part_i:\n",
    "    if t.Index != \"Anti-Top\":\n",
    "        D1 = t.Daughter1\n",
    "        D2 = t.Daughter2\n",
    "        Daughter = Part_i[D1:D2+1]\n",
    "        IDFK.append(t)\n",
    "        for g in Daughter:\n",
    "            if g.Index == \"Anti-Top\" and abs(g.PID) != 6 and t not in tun:\n",
    "                tun.append(t)\n",
    "    #if len(t.Decay) != 0:\n",
    "    #    M1 = t.Mother1\n",
    "    #    M2 = t.Mother2\n",
    "    #    Mother = Part_i[M1:M2+1]\n",
    "    #    for o in Mother:\n",
    "    #       if len(o.Decay) == 0 and abs(t.PID) != 6 and t not in tun:\n",
    "    #            tun.append(t)\n",
    "\n",
    "                \n",
    "result=[]\n",
    "result_2=[]\n",
    "#for q in Fudge:\n",
    "#    if q not in result:\n",
    "#        result.append(q)\n",
    "#for d in tun:\n",
    "#    if d not in result_2:\n",
    "#        result_2.append(d)\n",
    "Combine=[]\n",
    "Combine_2=[]\n",
    "for x in Fudge:\n",
    "    ptf=x.PT\n",
    "    phif=x.Phi\n",
    "    etaf=x.Eta\n",
    "    Ef=x.E\n",
    "    #print( x.PID, x.Daughter1,Part_i[x.Mother1].PID, x.Status, x.E)\n",
    "    Pxf=ptf*np.cos(phif)\n",
    "    Pyf=ptf*np.sin(phif)\n",
    "    Pzf=ptf*np.sinh(etaf)\n",
    "    Final_Four = [Ef, Pxf, Pyf, Pzf]\n",
    "    Combine = Combine + [Final_Four]\n",
    "for u in tun:\n",
    "    pt2=u.PT\n",
    "    phi2=u.Phi\n",
    "    eta2=u.Eta\n",
    "    E2=u.E\n",
    "    #print( u.PID, u.Daughter1,Part_i[u.Mother1].PID, u.Status, u.E)\n",
    "    Px2=pt2*np.cos(phi2)\n",
    "    Py2=pt2*np.sin(phi2)\n",
    "    Pz2=pt2*np.sinh(eta2)\n",
    "    Final_Four_2 = [E2, Px2, Py2, Pz2]\n",
    "    Combine_2 = Combine_2 +[Final_Four_2]    \n",
    "Final_Combo=np.sum(Combine, axis=0)\n",
    "Final_Combo_2=-1*np.sum(Combine_2,axis=0)\n",
    "Final_Final = np.add(Final_Combo, Final_Combo_2)\n",
    "Final_Mass=np.sqrt(Final_Final[0]**2 - Final_Final[1]**2 - Final_Final[2]**2 - Final_Final[3]**2)\n",
    "Diff = Final_Mass - Initial_Mass_T\n",
    "Diff"
   ]
  },
  {
   "cell_type": "code",
   "execution_count": 113,
   "id": "0a8eb740",
   "metadata": {},
   "outputs": [
    {
     "data": {
      "text/plain": [
       "[<Particles.Particles.Particle at 0x7f8e510e48e0>,\n",
       " <Particles.Particles.Particle at 0x7f8e510e4910>]"
      ]
     },
     "execution_count": 113,
     "metadata": {},
     "output_type": "execute_result"
    }
   ],
   "source": [
    "Tops[0].Decay"
   ]
  },
  {
   "cell_type": "code",
   "execution_count": 87,
   "id": "9ab057cb",
   "metadata": {},
   "outputs": [],
   "source": [
    "Truth_Mass = []\n",
    "Reconstructed_Mass = []\n",
    "for j in range(int(Limit)):\n",
    "    event=ev.Events[j][\"Delphes\"]\n",
    "    Part_i=event.Particle\n",
    "    Tops=[]\n",
    "    for e in range(int(len(Part_i))):\n",
    "            Target_Top=Part_i[e]\n",
    "            if abs(Target_Top.PID) == 6 and Target_Top.Status == 62:\n",
    "                Tops= Tops + [Target_Top]\n",
    "\n",
    "    T_Mass=[]\n",
    "    R_Mass = []\n",
    "    for h in range(int(len(Tops))):\n",
    "        Fudge = []\n",
    "        Tops_Index = \"Top\"\n",
    "        Anti_Tops_Index = \"Anti-Top\"\n",
    "        if Tops[h].PID == 6:\n",
    "            Top_Index = Tops_Index\n",
    "        elif Tops[h].PID == -6:\n",
    "            Top_Index = Anti_Tops_Index\n",
    "        Topp=Tops[h]\n",
    "        ptT=Topp.PT\n",
    "        phiT=Topp.Phi\n",
    "        etaT=Topp.Eta\n",
    "        ET=Topp.E\n",
    "        PxT=ptT*np.cos(phiT)\n",
    "        PyT=ptT*np.sin(phiT)\n",
    "        PzT=ptT*np.sinh(etaT)\n",
    "        Final_Four_T= [ET, PxT, PyT, PzT]\n",
    "        Initial_Mass_T=np.sqrt(Final_Four_T[0]**2-(Final_Four_T[1]**2+Final_Four_T[2]**2 + Final_Four_T[3]**2))\n",
    "        Sort_2(Tops[h],Tops[h], Top_Index)\n",
    "        tun = []\n",
    "        for t in Part_i:\n",
    "            if t.Index != Top_Index:\n",
    "                D1 = t.Daughter1\n",
    "                D2 = t.Daughter2\n",
    "                Daughter = Part_i[D1:D2+1]\n",
    "                for g in Daughter:\n",
    "                    if g.Index == Top_Index and abs(g.PID) != 6 and t not in tun :\n",
    "                        tun.append(t)\n",
    "        Combine=[]\n",
    "        Combine_2=[]\n",
    "        for x in Fudge:\n",
    "            ptf=x.PT\n",
    "            phif=x.Phi\n",
    "            etaf=x.Eta\n",
    "            Ef=x.E\n",
    "            Pxf=ptf*np.cos(phif)\n",
    "            Pyf=ptf*np.sin(phif)\n",
    "            Pzf=ptf*np.sinh(etaf)\n",
    "            Final_Four = [Ef, Pxf, Pyf, Pzf]\n",
    "            Combine = Combine + [Final_Four]\n",
    "        for u in tun:\n",
    "            pt2=u.PT\n",
    "            phi2=u.Phi\n",
    "            eta2=u.Eta\n",
    "            E2=u.E\n",
    "            #print(u.PID, u.Mother1, u.Mother2, u.Daughter1, u.E)\n",
    "            Px2=pt2*np.cos(phi2)\n",
    "            Py2=pt2*np.sin(phi2)\n",
    "            Pz2=pt2*np.sinh(eta2)\n",
    "            Final_Four_2 = [E2, Px2, Py2, Pz2]\n",
    "            Combine_2 = Combine_2 +[Final_Four_2]    \n",
    "        Final_Combo=np.sum(Combine, axis=0)\n",
    "        Mid_Combo_2 = np.sum(Combine_2,axis=0)\n",
    "        Final_Combo_2=np.multiply(Mid_Combo_2, -1)\n",
    "        Final_Final = np.add(Final_Combo, Final_Combo_2)\n",
    "        Final_Mass=np.sqrt(Final_Final[0]**2 - Final_Final[1]**2 - Final_Final[2]**2 - Final_Final[3]**2)\n",
    "        Diff = Final_Mass - Initial_Mass_T\n",
    "        T_Mass = T_Mass + [Initial_Mass_T]\n",
    "        R_Mass = R_Mass + [Final_Mass]\n",
    "    Truth_Mass = Truth_Mass + T_Mass\n",
    "    Reconstructed_Mass = Reconstructed_Mass + R_Mass"
   ]
  },
  {
   "cell_type": "code",
   "execution_count": 13,
   "id": "9e110452",
   "metadata": {},
   "outputs": [
    {
     "name": "stdout",
     "output_type": "stream",
     "text": [
      "[]\n"
     ]
    }
   ],
   "source": [
    "for j in ev.Events:\n",
    "    event = ev.Events[j][\"Delphes\"]\n",
    "    print(event.Tops)"
   ]
  },
  {
   "cell_type": "code",
   "execution_count": 88,
   "id": "f97a28be",
   "metadata": {},
   "outputs": [
    {
     "data": {
      "text/plain": [
       "Text(0.5, 0, 'Mass (Gev)')"
      ]
     },
     "execution_count": 88,
     "metadata": {},
     "output_type": "execute_result"
    },
    {
     "data": {
      "image/png": "[encoded data removed]",
      "text/plain": [
       "<Figure size 432x288 with 1 Axes>"
      ]
     },
     "metadata": {
      "needs_background": "light"
     },
     "output_type": "display_data"
    }
   ],
   "source": [
    "import matplotlib.pyplot as plt\n",
    "import mplhep\n",
    "## Plots the results in a histogram\n",
    "plt.hist(Reconstructed_Mass, 95, range=[150, 240] )\n",
    "plt.title('Truth Mass')\n",
    "plt.xlabel('Mass (Gev)')"
   ]
  },
  {
   "cell_type": "code",
   "execution_count": 90,
   "id": "87a4f3e6",
   "metadata": {},
   "outputs": [
    {
     "data": {
      "text/plain": [
       "150.90403342379497"
      ]
     },
     "execution_count": 90,
     "metadata": {},
     "output_type": "execute_result"
    }
   ],
   "source": [
    "min(Truth_Mass)"
   ]
  },
  {
   "cell_type": "code",
   "execution_count": null,
   "id": "78ae3c93",
   "metadata": {},
   "outputs": [],
   "source": [
    "\n",
    "result=[]\n",
    "result_2=[]\n",
    "for i in Fudge:\n",
    "    if i not in result:\n",
    "        result.append(i)\n",
    "for d in tun:\n",
    "    if d not in result_2:\n",
    "        result_2.append(d)\n",
    "Combine=[]\n",
    "Combine_2=[]\n",
    "for x in result:\n",
    "    ptf=x.PT\n",
    "    phif=x.Phi\n",
    "    etaf=x.Eta\n",
    "    Ef=x.E\n",
    "    Pxf=ptf*np.cos(phif)\n",
    "    Pyf=ptf*np.sin(phif)\n",
    "    Pzf=ptf*np.sinh(etaf)\n",
    "    Final_Four = [Ef, Pxf, Pyf, Pzf]\n",
    "    Combine = Combine + [Final_Four]\n",
    "for u in result_2:\n",
    "#u=Part_i[175]\n",
    "    pt2=u.PT\n",
    "    phi2=u.Phi\n",
    "    eta2=u.Eta\n",
    "    E2=u.E\n",
    "    Px2=pt2*np.cos(phi2)\n",
    "    Py2=pt2*np.sin(phi2)\n",
    "    Pz2=pt2*np.sinh(eta2)\n",
    "    Final_Four_2 = [E2, Px2, Py2, Pz2]\n",
    "    Combine_2 = Combine_2 +[Final_Four_2]\n",
    "Final_Combo=np.sum(Combine, axis=0)\n",
    "Final_Combo_2=-1*np.sum(Combine_2,axis=0)\n",
    "Final_Final = np.add(Final_Combo, Final_Combo_2)\n",
    "Final_Mass=np.sqrt(Final_Final[0]**2-(Final_Final[1]**2+Final_Final[2]**2 + Final_Final[3]**2))\n",
    "Final_Mass_1=np.sqrt(Final_Combo[0]**2-(Final_Combo[1]**2+Final_Combo[2]**2 + Final_Combo[3]**2))\n",
    "result_2"
   ]
  },
  {
   "cell_type": "code",
   "execution_count": null,
   "id": "9adb8ff4",
   "metadata": {},
   "outputs": [],
   "source": [
    "Topp=Tops[0]\n",
    "ptT=Topp.PT\n",
    "phiT=Topp.Phi\n",
    "etaT=Topp.Eta\n",
    "ET=Topp.E\n",
    "PxT=ptT*np.cos(phiT)\n",
    "PyT=ptT*np.sin(phiT)\n",
    "PzT=ptT*np.sinh(etaT)\n",
    "Final_Four_T= [ET, PxT, PyT, PzT]\n",
    "Final_Mass_T=np.sqrt(Final_Four_T[0]**2-(Final_Four_T[1]**2+Final_Four_T[2]**2 + Final_Four_T[3]**2))\n",
    "Final_Mass_T"
   ]
  },
  {
   "cell_type": "code",
   "execution_count": null,
   "id": "7af64ac2",
   "metadata": {
    "scrolled": true
   },
   "outputs": [],
   "source": [
    "result_2\n",
    "outsiders=[]\n",
    "fuck=[]\n",
    "for p in result:\n",
    "    Mum1 = p.PID\n",
    "    outsiders.append(Mum1)\n",
    "        \n",
    "    \n",
    "\n",
    "result_2"
   ]
  },
  {
   "cell_type": "code",
   "execution_count": null,
   "id": "6765cc35",
   "metadata": {},
   "outputs": [],
   "source": [
    "Part_i[175].PID"
   ]
  },
  {
   "cell_type": "code",
   "execution_count": null,
   "id": "996622c5",
   "metadata": {
    "scrolled": true
   },
   "outputs": [],
   "source": [
    "Party=[]\n",
    "for y in result:\n",
    "    Part=y.PID\n",
    "    Party= Party + [Part]\n",
    "Party"
   ]
  },
  {
   "cell_type": "code",
   "execution_count": null,
   "id": "1776723e",
   "metadata": {},
   "outputs": [],
   "source": [
    "fuck_if_i_know = []\n",
    "for f in Part_i:\n",
    "    Mum1 = f.Mother1\n",
    "    Mum2 = f.Mother2\n",
    "    if Mum2-Mum1 !=0:\n",
    "        if len(f.Decay) != 0 and f.Status == 1:\n",
    "            fuck_if_i_know.append(f)\n",
    "fuck_if_i_know"
   ]
  },
  {
   "cell_type": "code",
   "execution_count": null,
   "id": "c0dea907",
   "metadata": {},
   "outputs": [],
   "source": [
    "K_plus=Part_i[743]\n",
    "K_minus=Part_i[1007]\n",
    "Pi=Part_i[1009]\n",
    "Final_Particles=[K_plus, K_minus, Pi]\n",
    "Combine=[]\n",
    "for i in Final_Particles:\n",
    "    ptf=i.PT\n",
    "    phif=i.Phi\n",
    "    etaf=i.Eta\n",
    "    Ef=i.E\n",
    "    Pxf=ptf*np.cos(phif)\n",
    "    Pyf=ptf*np.sin(phif)\n",
    "    Pzf=ptf*np.sinh(etaf)\n",
    "    Final_Four = [Ef, Pxf, Pyf, Pzf]\n",
    "    Combine = Combine + [Final_Four]\n",
    "Final_Combo=np.sum(Combine, axis=0)\n",
    "Final_Mass=np.sqrt(Final_Combo[0]**2-(Final_Combo[1]**2-Final_Combo[2]**2 + Final_Combo[3]**2))\n",
    "Final_Mass"
   ]
  },
  {
   "cell_type": "code",
   "execution_count": null,
   "id": "5253fe59",
   "metadata": {},
   "outputs": [],
   "source": [
    "Tops[0].Decay[1].Decay[0].Decay[0].Decay[0].Decay[9].PID"
   ]
  },
  {
   "cell_type": "code",
   "execution_count": null,
   "id": "a758ea5a",
   "metadata": {},
   "outputs": [],
   "source": [
    "T=Tops[0].Decay[1].Decay[0].Decay[0].Decay[0]\n",
    "ptt=T.PT\n",
    "phit=T.Phi\n",
    "etat=T.Eta\n",
    "Et=T.E\n",
    "Pxt=ptt*np.cos(phit)\n",
    "Pyt=ptt*np.sin(phit)\n",
    "Pzt=ptt*np.sinh(etat)\n",
    "Top = [Et, Pxt, Pyt, Pzt]\n",
    "Mass= np.sqrt(Top[0]**2-(Top[1]**2+Top[2]**2+Top[3]**2))\n",
    "Decayy=[]\n",
    "for i in range(len(Tops[0].Decay[1].Decay[0].Decay[0].Decay[0].Decay)):\n",
    "    Target = Tops[0].Decay[1].Decay[0].Decay[0].Decay[0].Decay[i]\n",
    "    pt=Target.PT\n",
    "    phi=Target.Phi\n",
    "    eta=Target.Eta\n",
    "    E=Target.E\n",
    "    Px=pt*np.cos(phi)\n",
    "    Py=pt*np.sin(phi)\n",
    "    Pz=pt*np.sinh(eta)\n",
    "    Four_vector = [E, Px, Py, Pz]\n",
    "    Decayy = Decayy + [Four_vector]\n",
    "Top_Vector=np.sum(Decayy, axis=0)\n",
    "Top_Mass=np.sqrt(Top_Vector[0]**2-(Top_Vector[1]**2+Top_Vector[2]**2+Top_Vector[3]**2))\n",
    "Top_Mass-Mass\n"
   ]
  },
  {
   "cell_type": "code",
   "execution_count": null,
   "id": "fee9f3d0",
   "metadata": {},
   "outputs": [],
   "source": [
    "Tops={}\n",
    "Tops[\"Mass_Initial_Level\"]=[]\n",
    "Tops[\"Mass_Final_Level\"]=[]\n",
    "for y in range(int(Limit)):\n",
    "    event=ev.Events[y][\"Delphes\"]\n",
    "    Final_State={}\n",
    "    Final_State[\"4-momentum\"]=[]\n",
    "    Final_State[\"Mothers\"]=[]\n",
    "    Final_State[\"Type\"]=[]\n",
    "    Final_State[\"Daughter1_Early\"]=[]\n",
    "    Final_State[\"Daughter2_Early\"]=[]\n",
    "    Final_State[\"Daughter1\"]=[]\n",
    "    Final_State[\"Daughter2\"]=[]\n",
    "    Final_State[\"Type_Early\"]=[]\n",
    "    Part_i=event.Particle\n",
    "    for e in range(int(len(Part_i))):\n",
    "        Target_Top=Part_i[e]\n",
    "        if abs(Target_Top.PID) == 6 and Target_Top.Status == 22:\n",
    "            Top_Inital_Mass=Target_Top.Mass\n",
    "            Tops[\"Mass_Initial_Level\"].append(Top_Inital_Mass)\n",
    "    for i in range(int(len(Part_i))):\n",
    "        Target= Part_i[i]\n",
    "        if Target.Status == 23:\n",
    "            pt=Target.PT\n",
    "            phi=Target.Phi\n",
    "            eta=Target.Eta\n",
    "            E=Target.E\n",
    "            Px=pt*np.cos(phi)\n",
    "            Py=pt*np.sin(phi)\n",
    "            Pz=pt*np.sinh(eta)\n",
    "            Type=Target.PID\n",
    "            Four_vector=[E,Px,Py,Pz]\n",
    "            Final_State[\"4-momentum\"].append(Four_vector)\n",
    "            Final_State[\"Type\"].append(Type)\n",
    "        elif Target.Status == 52:\n",
    "            Daughter_1=Target.Daughter1\n",
    "            Daughter_2=Target.Daughter2\n",
    "            Type_early=Target.PID\n",
    "            Final_State[\"Daughter1_Early\"].append(Daughter_1)\n",
    "            Final_State[\"Daughter2_Early\"].append(Daughter_2)\n",
    "            Final_State[\"Type_Early\"].append(Type_early)\n",
    "        elif Target.Status == 22:\n",
    "            Daughter_1_22=Target.Daughter1\n",
    "            Daughter_2_22=Target.Daughter2\n",
    "            Type_early_22=Target.PID\n",
    "            Final_State[\"Daughter1_Early\"].append(Daughter_1_22)\n",
    "            Final_State[\"Daughter2_Early\"].append(Daughter_2_22)\n",
    "            Final_State[\"Type_Early\"].append(Type_early_22)\n",
    "        elif Target.Status == 51:\n",
    "            Daughter_1_51=Target.Daughter1\n",
    "            Daughter_2_51=Target.Daughter2\n",
    "            Type_early_51=Target.PID\n",
    "            Final_State[\"Daughter1_Early\"].append(Daughter_1_51)\n",
    "            Final_State[\"Daughter2_Early\"].append(Daughter_2_51)\n",
    "            Final_State[\"Type_Early\"].append(Type_early_51)\n",
    "    for k in range(int(len(Final_State[\"Daughter1_Early\"]))):\n",
    "        if Final_State[\"Daughter1_Early\"][k] != Final_State[\"Daughter2_Early\"][k] and abs(Final_State[\"Type_Early\"][k])== 24:\n",
    "                Final_State[\"Daughter1\"].append(Final_State[\"Daughter1_Early\"][k])\n",
    "                Final_State[\"Daughter2\"].append(Final_State[\"Daughter2_Early\"][k])\n",
    "    for j in range(int(len(Final_State[\"Daughter1\"]))): \n",
    "        for h in range(int(len(Part_i))):\n",
    "            if h == (Final_State[\"Daughter1\"][j]):\n",
    "                Target_child=Part_i[h]\n",
    "                if Target_child.Status == 1 and abs(Target_child.PID) < 15:\n",
    "                    pt_lep=Target_child.PT\n",
    "                    phi_lep=Target_child.Phi\n",
    "                    eta_lep=Target_child.Eta\n",
    "                    E_lep=Target_child.E\n",
    "                    Px_lep=pt_lep*np.cos(phi_lep)\n",
    "                    Py_lep=pt_lep*np.sin(phi_lep)\n",
    "                    Pz_lep=pt_lep*np.sinh(eta_lep)\n",
    "                    Type_lep=Target_child.PID\n",
    "                    Four_vector_lep=[E_lep,Px_lep,Py_lep,Pz_lep]\n",
    "                    Final_State[\"4-momentum\"].append(Four_vector_lep)\n",
    "                    Final_State[\"Type\"].append(Type_lep)\n",
    "            elif h == (Final_State[\"Daughter2\"][j]):\n",
    "                Target_child_2=Part_i[h]\n",
    "                if Target_child_2.Status == 1 and abs(Target_child_2.PID) < 15:\n",
    "                    pt_lep_2=Target_child_2.PT\n",
    "                    phi_lep_2=Target_child_2.Phi\n",
    "                    eta_lep_2=Target_child_2.Eta\n",
    "                    E_lep_2=Target_child_2.E\n",
    "                    Px_lep_2=pt_lep_2*np.cos(phi_lep_2)\n",
    "                    Py_lep_2=pt_lep_2*np.sin(phi_lep_2)\n",
    "                    Pz_lep_2=pt_lep_2*np.sinh(eta_lep_2)\n",
    "                    Type_lep_2=Target_child_2.PID\n",
    "                    Four_vector_lep_2=[E_lep_2,Px_lep_2,Py_lep_2,Pz_lep_2]\n",
    "                    Final_State[\"4-momentum\"].append(Four_vector_lep_2)\n",
    "                    Final_State[\"Type\"].append(Type_lep_2)\n",
    "    Top=[]\n",
    "    Anti_Top=[]\n",
    "    for x in range(int(len(Final_State[\"4-momentum\"]))):\n",
    "        #Bottom\n",
    "        if Final_State[\"Type\"][x] == 5:\n",
    "            Top= Top + [Final_State[\"4-momentum\"][x]]\n",
    "        elif Final_State[\"Type\"][x] == -5:    \n",
    "            Anti_Top= Anti_Top + [Final_State[\"4-momentum\"][x]]\n",
    "        #Charm\n",
    "        elif Final_State[\"Type\"][x] == 4:\n",
    "            Top= Top + [Final_State[\"4-momentum\"][x]]\n",
    "        elif Final_State[\"Type\"][x] == -4: \n",
    "            Anti_Top= Anti_Top + [Final_State[\"4-momentum\"][x]]\n",
    "        #Strange\n",
    "        elif Final_State[\"Type\"][x] == -3:\n",
    "            Top= Top + [Final_State[\"4-momentum\"][x]]\n",
    "        elif Final_State[\"Type\"][x] == 3:\n",
    "            Anti_Top= Anti_Top + [Final_State[\"4-momentum\"][x]]\n",
    "        #Up\n",
    "        elif Final_State[\"Type\"][x] == 2:\n",
    "            Top= Top + [Final_State[\"4-momentum\"][x]]\n",
    "        elif Final_State[\"Type\"][x] == -2: \n",
    "            Anti_Top= Anti_Top + [Final_State[\"4-momentum\"][x]]\n",
    "        #Down\n",
    "        elif Final_State[\"Type\"][x] == -1:\n",
    "            Top= Top + [Final_State[\"4-momentum\"][x]]\n",
    "        elif Final_State[\"Type\"][x] == 1: \n",
    "            Anti_Top= Anti_Top + [Final_State[\"4-momentum\"][x]]\n",
    "\n",
    "        #Electron\n",
    "        elif Final_State[\"Type\"][x] == -11:\n",
    "            Top= Top + [Final_State[\"4-momentum\"][x]]\n",
    "        elif Final_State[\"Type\"][x] == 11: \n",
    "            Anti_Top= Anti_Top + [Final_State[\"4-momentum\"][x]]\n",
    "        #e_neutrino\n",
    "        elif Final_State[\"Type\"][x] == 12:\n",
    "            Top= Top + [Final_State[\"4-momentum\"][x]]\n",
    "        elif Final_State[\"Type\"][x] == -12: \n",
    "            Anti_Top= Anti_Top + [Final_State[\"4-momentum\"][x]]\n",
    "        #Muon\n",
    "        elif Final_State[\"Type\"][x] == -13:\n",
    "            Top= Top + [Final_State[\"4-momentum\"][x]]\n",
    "        elif Final_State[\"Type\"][x] == 13: \n",
    "            Anti_Top= Anti_Top + [Final_State[\"4-momentum\"][x]]\n",
    "        #mu_neutrino\n",
    "        elif Final_State[\"Type\"][x] == 14:\n",
    "            Top= Top + [Final_State[\"4-momentum\"][x]]\n",
    "        elif Final_State[\"Type\"][x] == -14: \n",
    "            Anti_Top= Anti_Top + [Final_State[\"4-momentum\"][x]]\n",
    "\n",
    "    Top_Vector_1=np.sum(Top, axis=0)\n",
    "    Top_Mass_1=np.sqrt(Top_Vector_1[0]**2-(Top_Vector_1[1]**2+Top_Vector_1[2]**2+Top_Vector_1[3]**2))\n",
    "    Tops[\"Mass_Final_Level\"].append(Top_Mass_1)\n",
    "    Top_Vector_2=np.sum(Anti_Top, axis=0)\n",
    "    Top_Mass_2=np.sqrt(Top_Vector_2[0]**2-(Top_Vector_2[1]**2+Top_Vector_2[2]**2+Top_Vector_2[3]**2))\n",
    "    Tops[\"Mass_Final_Level\"].append(Top_Mass_2)"
   ]
  },
  {
   "cell_type": "code",
   "execution_count": null,
   "id": "3235cf23",
   "metadata": {},
   "outputs": [],
   "source": [
    "Tops[\"Mass_Final_Level\"]"
   ]
  },
  {
   "cell_type": "code",
   "execution_count": null,
   "id": "9f458dd5",
   "metadata": {},
   "outputs": [],
   "source": [
    "plt.hist(Tops[\"Mass_Initial_Level\"], 95)\n",
    "plt.title('Truth Masses')\n",
    "plt.xlabel('Mass (Gev)')"
   ]
  },
  {
   "cell_type": "code",
   "execution_count": null,
   "id": "29584ee9",
   "metadata": {},
   "outputs": [],
   "source": []
  },
  {
   "cell_type": "code",
   "execution_count": null,
   "id": "c646deed",
   "metadata": {},
   "outputs": [],
   "source": [
    "d=[]\n",
    "for t in range(int(len(Tops[\"Mass_Final_Level\"]))):\n",
    "    if Tops[\"Mass_Final_Level\"][t] < 100:\n",
    "            d= d +[t]\n",
    "d"
   ]
  },
  {
   "cell_type": "code",
   "execution_count": null,
   "id": "1a1cd80a",
   "metadata": {},
   "outputs": [],
   "source": []
  }
 ],
 "metadata": {
  "kernelspec": {
   "display_name": "Python 3 (ipykernel)",
   "language": "python",
   "name": "python3"
  },
  "language_info": {
   "codemirror_mode": {
    "name": "ipython",
    "version": 3
   },
   "file_extension": ".py",
   "mimetype": "text/x-python",
   "name": "python",
   "nbconvert_exporter": "python",
   "pygments_lexer": "ipython3",
   "version": "3.9.6"
  }
 },
 "nbformat": 4,
 "nbformat_minor": 5
}
